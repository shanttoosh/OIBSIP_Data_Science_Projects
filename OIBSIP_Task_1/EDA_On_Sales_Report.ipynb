{
  "nbformat": 4,
  "nbformat_minor": 0,
  "metadata": {
    "colab": {
      "provenance": []
    },
    "kernelspec": {
      "name": "python3",
      "display_name": "Python 3"
    },
    "language_info": {
      "name": "python"
    }
  },
  "cells": [
    {
      "cell_type": "markdown",
      "source": [
        "***IMPORT*** ***NECCESSARY*** ***LIBRARIES***"
      ],
      "metadata": {
        "id": "xatayo4k8HiP"
      }
    },
    {
      "cell_type": "code",
      "source": [
        "import numpy as np\n",
        "import pandas as pd\n",
        "import matplotlib.pyplot as plt\n",
        "import seaborn as sns"
      ],
      "metadata": {
        "id": "bdV2cihfpJXD"
      },
      "execution_count": 101,
      "outputs": []
    },
    {
      "cell_type": "markdown",
      "source": [
        "***LOAD*** ***THE*** ***DATASET***"
      ],
      "metadata": {
        "id": "LGnQ60dF78XC"
      }
    },
    {
      "cell_type": "code",
      "execution_count": 102,
      "metadata": {
        "colab": {
          "base_uri": "https://localhost:8080/",
          "height": 1000
        },
        "id": "DTydLMsHo6Dl",
        "outputId": "23b393f7-8ad7-403c-fc1b-0b0cce6460f1"
      },
      "outputs": [
        {
          "output_type": "display_data",
          "data": {
            "text/plain": [
              "<IPython.core.display.HTML object>"
            ],
            "text/html": [
              "\n",
              "     <input type=\"file\" id=\"files-227f9d4c-4547-4df3-80dd-0aee1cd3f3ad\" name=\"files[]\" multiple disabled\n",
              "        style=\"border:none\" />\n",
              "     <output id=\"result-227f9d4c-4547-4df3-80dd-0aee1cd3f3ad\">\n",
              "      Upload widget is only available when the cell has been executed in the\n",
              "      current browser session. Please rerun this cell to enable.\n",
              "      </output>\n",
              "      <script>// Copyright 2017 Google LLC\n",
              "//\n",
              "// Licensed under the Apache License, Version 2.0 (the \"License\");\n",
              "// you may not use this file except in compliance with the License.\n",
              "// You may obtain a copy of the License at\n",
              "//\n",
              "//      http://www.apache.org/licenses/LICENSE-2.0\n",
              "//\n",
              "// Unless required by applicable law or agreed to in writing, software\n",
              "// distributed under the License is distributed on an \"AS IS\" BASIS,\n",
              "// WITHOUT WARRANTIES OR CONDITIONS OF ANY KIND, either express or implied.\n",
              "// See the License for the specific language governing permissions and\n",
              "// limitations under the License.\n",
              "\n",
              "/**\n",
              " * @fileoverview Helpers for google.colab Python module.\n",
              " */\n",
              "(function(scope) {\n",
              "function span(text, styleAttributes = {}) {\n",
              "  const element = document.createElement('span');\n",
              "  element.textContent = text;\n",
              "  for (const key of Object.keys(styleAttributes)) {\n",
              "    element.style[key] = styleAttributes[key];\n",
              "  }\n",
              "  return element;\n",
              "}\n",
              "\n",
              "// Max number of bytes which will be uploaded at a time.\n",
              "const MAX_PAYLOAD_SIZE = 100 * 1024;\n",
              "\n",
              "function _uploadFiles(inputId, outputId) {\n",
              "  const steps = uploadFilesStep(inputId, outputId);\n",
              "  const outputElement = document.getElementById(outputId);\n",
              "  // Cache steps on the outputElement to make it available for the next call\n",
              "  // to uploadFilesContinue from Python.\n",
              "  outputElement.steps = steps;\n",
              "\n",
              "  return _uploadFilesContinue(outputId);\n",
              "}\n",
              "\n",
              "// This is roughly an async generator (not supported in the browser yet),\n",
              "// where there are multiple asynchronous steps and the Python side is going\n",
              "// to poll for completion of each step.\n",
              "// This uses a Promise to block the python side on completion of each step,\n",
              "// then passes the result of the previous step as the input to the next step.\n",
              "function _uploadFilesContinue(outputId) {\n",
              "  const outputElement = document.getElementById(outputId);\n",
              "  const steps = outputElement.steps;\n",
              "\n",
              "  const next = steps.next(outputElement.lastPromiseValue);\n",
              "  return Promise.resolve(next.value.promise).then((value) => {\n",
              "    // Cache the last promise value to make it available to the next\n",
              "    // step of the generator.\n",
              "    outputElement.lastPromiseValue = value;\n",
              "    return next.value.response;\n",
              "  });\n",
              "}\n",
              "\n",
              "/**\n",
              " * Generator function which is called between each async step of the upload\n",
              " * process.\n",
              " * @param {string} inputId Element ID of the input file picker element.\n",
              " * @param {string} outputId Element ID of the output display.\n",
              " * @return {!Iterable<!Object>} Iterable of next steps.\n",
              " */\n",
              "function* uploadFilesStep(inputId, outputId) {\n",
              "  const inputElement = document.getElementById(inputId);\n",
              "  inputElement.disabled = false;\n",
              "\n",
              "  const outputElement = document.getElementById(outputId);\n",
              "  outputElement.innerHTML = '';\n",
              "\n",
              "  const pickedPromise = new Promise((resolve) => {\n",
              "    inputElement.addEventListener('change', (e) => {\n",
              "      resolve(e.target.files);\n",
              "    });\n",
              "  });\n",
              "\n",
              "  const cancel = document.createElement('button');\n",
              "  inputElement.parentElement.appendChild(cancel);\n",
              "  cancel.textContent = 'Cancel upload';\n",
              "  const cancelPromise = new Promise((resolve) => {\n",
              "    cancel.onclick = () => {\n",
              "      resolve(null);\n",
              "    };\n",
              "  });\n",
              "\n",
              "  // Wait for the user to pick the files.\n",
              "  const files = yield {\n",
              "    promise: Promise.race([pickedPromise, cancelPromise]),\n",
              "    response: {\n",
              "      action: 'starting',\n",
              "    }\n",
              "  };\n",
              "\n",
              "  cancel.remove();\n",
              "\n",
              "  // Disable the input element since further picks are not allowed.\n",
              "  inputElement.disabled = true;\n",
              "\n",
              "  if (!files) {\n",
              "    return {\n",
              "      response: {\n",
              "        action: 'complete',\n",
              "      }\n",
              "    };\n",
              "  }\n",
              "\n",
              "  for (const file of files) {\n",
              "    const li = document.createElement('li');\n",
              "    li.append(span(file.name, {fontWeight: 'bold'}));\n",
              "    li.append(span(\n",
              "        `(${file.type || 'n/a'}) - ${file.size} bytes, ` +\n",
              "        `last modified: ${\n",
              "            file.lastModifiedDate ? file.lastModifiedDate.toLocaleDateString() :\n",
              "                                    'n/a'} - `));\n",
              "    const percent = span('0% done');\n",
              "    li.appendChild(percent);\n",
              "\n",
              "    outputElement.appendChild(li);\n",
              "\n",
              "    const fileDataPromise = new Promise((resolve) => {\n",
              "      const reader = new FileReader();\n",
              "      reader.onload = (e) => {\n",
              "        resolve(e.target.result);\n",
              "      };\n",
              "      reader.readAsArrayBuffer(file);\n",
              "    });\n",
              "    // Wait for the data to be ready.\n",
              "    let fileData = yield {\n",
              "      promise: fileDataPromise,\n",
              "      response: {\n",
              "        action: 'continue',\n",
              "      }\n",
              "    };\n",
              "\n",
              "    // Use a chunked sending to avoid message size limits. See b/62115660.\n",
              "    let position = 0;\n",
              "    do {\n",
              "      const length = Math.min(fileData.byteLength - position, MAX_PAYLOAD_SIZE);\n",
              "      const chunk = new Uint8Array(fileData, position, length);\n",
              "      position += length;\n",
              "\n",
              "      const base64 = btoa(String.fromCharCode.apply(null, chunk));\n",
              "      yield {\n",
              "        response: {\n",
              "          action: 'append',\n",
              "          file: file.name,\n",
              "          data: base64,\n",
              "        },\n",
              "      };\n",
              "\n",
              "      let percentDone = fileData.byteLength === 0 ?\n",
              "          100 :\n",
              "          Math.round((position / fileData.byteLength) * 100);\n",
              "      percent.textContent = `${percentDone}% done`;\n",
              "\n",
              "    } while (position < fileData.byteLength);\n",
              "  }\n",
              "\n",
              "  // All done.\n",
              "  yield {\n",
              "    response: {\n",
              "      action: 'complete',\n",
              "    }\n",
              "  };\n",
              "}\n",
              "\n",
              "scope.google = scope.google || {};\n",
              "scope.google.colab = scope.google.colab || {};\n",
              "scope.google.colab._files = {\n",
              "  _uploadFiles,\n",
              "  _uploadFilesContinue,\n",
              "};\n",
              "})(self);\n",
              "</script> "
            ]
          },
          "metadata": {}
        },
        {
          "output_type": "stream",
          "name": "stdout",
          "text": [
            "Saving retail_sales_dataset.csv to retail_sales_dataset (4).csv\n"
          ]
        },
        {
          "output_type": "execute_result",
          "data": {
            "text/plain": [
              "{'retail_sales_dataset (4).csv': b'Transaction ID,Date,Customer ID,Gender,Age,Product Category,Quantity,Price per Unit,Total Amount\\r\\n1,2023-11-24,CUST001,Male,34,Beauty,3,50,150\\r\\n2,2023-02-27,CUST002,Female,26,Clothing,2,500,1000\\r\\n3,2023-01-13,CUST003,Male,50,Electronics,1,30,30\\r\\n4,2023-05-21,CUST004,Male,37,Clothing,1,500,500\\r\\n5,2023-05-06,CUST005,Male,30,Beauty,2,50,100\\r\\n6,2023-04-25,CUST006,Female,45,Beauty,1,30,30\\r\\n7,2023-03-13,CUST007,Male,46,Clothing,2,25,50\\r\\n8,2023-02-22,CUST008,Male,30,Electronics,4,25,100\\r\\n9,2023-12-13,CUST009,Male,63,Electronics,2,300,600\\r\\n10,2023-10-07,CUST010,Female,52,Clothing,4,50,200\\r\\n11,2023-02-14,CUST011,Male,23,Clothing,2,50,100\\r\\n12,2023-10-30,CUST012,Male,35,Beauty,3,25,75\\r\\n13,2023-08-05,CUST013,Male,22,Electronics,3,500,1500\\r\\n14,2023-01-17,CUST014,Male,64,Clothing,4,30,120\\r\\n15,2023-01-16,CUST015,Female,42,Electronics,4,500,2000\\r\\n16,2023-02-17,CUST016,Male,19,Clothing,3,500,1500\\r\\n17,2023-04-22,CUST017,Female,27,Clothing,4,25,100\\r\\n18,2023-04-30,CUST018,Female,47,Electronics,2,25,50\\r\\n19,2023-09-16,CUST019,Female,62,Clothing,2,25,50\\r\\n20,2023-11-05,CUST020,Male,22,Clothing,3,300,900\\r\\n21,2023-01-14,CUST021,Female,50,Beauty,1,500,500\\r\\n22,2023-10-15,CUST022,Male,18,Clothing,2,50,100\\r\\n23,2023-04-12,CUST023,Female,35,Clothing,4,30,120\\r\\n24,2023-11-29,CUST024,Female,49,Clothing,1,300,300\\r\\n25,2023-12-26,CUST025,Female,64,Beauty,1,50,50\\r\\n26,2023-10-07,CUST026,Female,28,Electronics,2,500,1000\\r\\n27,2023-08-03,CUST027,Female,38,Beauty,2,25,50\\r\\n28,2023-04-23,CUST028,Female,43,Beauty,1,500,500\\r\\n29,2023-08-18,CUST029,Female,42,Electronics,1,30,30\\r\\n30,2023-10-29,CUST030,Female,39,Beauty,3,300,900\\r\\n31,2023-05-23,CUST031,Male,44,Electronics,4,300,1200\\r\\n32,2023-01-04,CUST032,Male,30,Beauty,3,30,90\\r\\n33,2023-03-23,CUST033,Female,50,Electronics,2,50,100\\r\\n34,2023-12-24,CUST034,Female,51,Clothing,3,50,150\\r\\n35,2023-08-05,CUST035,Female,58,Beauty,3,300,900\\r\\n36,2023-06-24,CUST036,Male,52,Beauty,3,300,900\\r\\n37,2023-05-23,CUST037,Female,18,Beauty,3,25,75\\r\\n38,2023-03-21,CUST038,Male,38,Beauty,4,50,200\\r\\n39,2023-04-21,CUST039,Male,23,Clothing,4,30,120\\r\\n40,2023-06-22,CUST040,Male,45,Beauty,1,50,50\\r\\n41,2023-02-22,CUST041,Male,34,Clothing,2,25,50\\r\\n42,2023-02-17,CUST042,Male,22,Clothing,3,300,900\\r\\n43,2023-07-14,CUST043,Female,48,Clothing,1,300,300\\r\\n44,2023-02-19,CUST044,Female,22,Clothing,1,25,25\\r\\n45,2023-07-03,CUST045,Female,55,Electronics,1,30,30\\r\\n46,2023-06-26,CUST046,Female,20,Electronics,4,300,1200\\r\\n47,2023-11-06,CUST047,Female,40,Beauty,3,500,1500\\r\\n48,2023-05-16,CUST048,Male,54,Electronics,3,300,900\\r\\n49,2023-01-23,CUST049,Female,54,Electronics,2,500,1000\\r\\n50,2023-08-24,CUST050,Female,27,Beauty,3,25,75\\r\\n51,2023-10-02,CUST051,Male,27,Beauty,3,25,75\\r\\n52,2023-03-05,CUST052,Female,36,Beauty,1,300,300\\r\\n53,2023-07-13,CUST053,Male,34,Electronics,2,50,100\\r\\n54,2023-02-10,CUST054,Female,38,Electronics,3,500,1500\\r\\n55,2023-10-10,CUST055,Male,31,Beauty,4,30,120\\r\\n56,2023-05-31,CUST056,Female,26,Clothing,3,300,900\\r\\n57,2023-11-18,CUST057,Female,63,Beauty,1,30,30\\r\\n58,2023-11-13,CUST058,Male,18,Clothing,4,300,1200\\r\\n59,2023-07-05,CUST059,Male,62,Clothing,1,50,50\\r\\n60,2023-10-23,CUST060,Male,30,Beauty,3,50,150\\r\\n61,2023-04-09,CUST061,Male,21,Beauty,4,50,200\\r\\n62,2023-12-27,CUST062,Male,18,Beauty,2,50,100\\r\\n63,2023-02-05,CUST063,Male,57,Electronics,2,25,50\\r\\n64,2023-01-24,CUST064,Male,49,Clothing,4,25,100\\r\\n65,2023-12-05,CUST065,Male,51,Electronics,4,500,2000\\r\\n66,2023-04-27,CUST066,Female,45,Electronics,1,30,30\\r\\n67,2023-05-29,CUST067,Female,48,Beauty,4,300,1200\\r\\n68,2023-02-10,CUST068,Male,25,Electronics,1,300,300\\r\\n69,2023-04-30,CUST069,Female,56,Beauty,3,25,75\\r\\n70,2023-02-21,CUST070,Female,43,Clothing,1,300,300\\r\\n71,2023-07-14,CUST071,Female,51,Beauty,4,25,100\\r\\n72,2023-05-23,CUST072,Female,20,Electronics,4,500,2000\\r\\n73,2023-08-21,CUST073,Male,29,Electronics,3,30,90\\r\\n74,2023-11-22,CUST074,Female,18,Beauty,4,500,2000\\r\\n75,2023-07-06,CUST075,Male,61,Beauty,4,50,200\\r\\n76,2023-03-25,CUST076,Female,22,Electronics,2,50,100\\r\\n77,2023-07-09,CUST077,Female,47,Clothing,2,50,100\\r\\n78,2023-07-01,CUST078,Female,47,Clothing,3,500,1500\\r\\n79,2023-04-18,CUST079,Male,34,Beauty,1,300,300\\r\\n80,2023-12-10,CUST080,Female,64,Clothing,2,30,60\\r\\n81,2023-05-17,CUST081,Male,40,Electronics,1,50,50\\r\\n82,2023-12-26,CUST082,Female,32,Beauty,4,50,200\\r\\n83,2023-12-16,CUST083,Male,54,Electronics,2,50,100\\r\\n84,2023-11-28,CUST084,Female,38,Electronics,3,30,90\\r\\n85,2023-02-06,CUST085,Male,31,Clothing,3,50,150\\r\\n86,2023-11-08,CUST086,Male,19,Beauty,3,30,90\\r\\n87,2023-11-22,CUST087,Female,28,Beauty,2,50,100\\r\\n88,2023-03-29,CUST088,Male,56,Clothing,1,500,500\\r\\n89,2023-10-01,CUST089,Female,55,Electronics,4,500,2000\\r\\n90,2023-05-06,CUST090,Female,51,Electronics,1,30,30\\r\\n91,2023-03-25,CUST091,Female,55,Electronics,1,500,500\\r\\n92,2023-08-25,CUST092,Female,51,Electronics,4,30,120\\r\\n93,2023-07-14,CUST093,Female,35,Beauty,4,500,2000\\r\\n94,2023-05-19,CUST094,Female,47,Beauty,2,500,1000\\r\\n95,2023-11-24,CUST095,Female,32,Clothing,2,30,60\\r\\n96,2023-12-19,CUST096,Female,44,Clothing,2,300,600\\r\\n97,2023-10-13,CUST097,Female,51,Beauty,2,500,1000\\r\\n98,2023-04-23,CUST098,Female,55,Beauty,2,50,100\\r\\n99,2023-12-17,CUST099,Female,50,Electronics,4,300,1200\\r\\n100,2023-06-16,CUST100,Male,41,Electronics,1,30,30\\r\\n101,2023-01-29,CUST101,Male,32,Clothing,2,300,600\\r\\n102,2023-04-28,CUST102,Female,47,Beauty,2,25,50\\r\\n103,2023-01-17,CUST103,Female,59,Clothing,1,25,25\\r\\n104,2023-06-11,CUST104,Female,34,Beauty,2,500,1000\\r\\n105,2023-07-25,CUST105,Female,22,Electronics,1,500,500\\r\\n106,2023-05-18,CUST106,Female,46,Clothing,1,50,50\\r\\n107,2023-02-03,CUST107,Female,21,Clothing,4,300,1200\\r\\n108,2023-04-19,CUST108,Female,27,Beauty,3,25,75\\r\\n109,2023-10-18,CUST109,Female,34,Electronics,4,500,2000\\r\\n110,2023-06-11,CUST110,Male,27,Clothing,3,300,900\\r\\n111,2023-04-19,CUST111,Female,34,Electronics,3,500,1500\\r\\n112,2023-12-02,CUST112,Male,37,Clothing,3,500,1500\\r\\n113,2023-09-13,CUST113,Female,41,Electronics,2,25,50\\r\\n114,2023-07-22,CUST114,Female,22,Beauty,4,25,100\\r\\n115,2023-11-26,CUST115,Male,51,Clothing,3,500,1500\\r\\n116,2023-08-23,CUST116,Female,23,Clothing,1,30,30\\r\\n117,2023-03-15,CUST117,Male,19,Electronics,2,500,1000\\r\\n118,2023-05-16,CUST118,Female,30,Electronics,4,500,2000\\r\\n119,2023-03-13,CUST119,Female,60,Clothing,3,50,150\\r\\n120,2023-05-07,CUST120,Male,60,Beauty,1,50,50\\r\\n121,2023-10-15,CUST121,Female,28,Electronics,4,50,200\\r\\n122,2023-10-03,CUST122,Male,64,Electronics,4,30,120\\r\\n123,2023-05-15,CUST123,Female,40,Electronics,2,30,60\\r\\n124,2023-10-27,CUST124,Male,33,Clothing,4,500,2000\\r\\n125,2023-08-08,CUST125,Male,48,Clothing,2,50,100\\r\\n126,2023-10-26,CUST126,Female,28,Clothing,3,30,90\\r\\n127,2023-07-24,CUST127,Female,33,Clothing,2,25,50\\r\\n128,2023-07-05,CUST128,Male,25,Beauty,1,500,500\\r\\n129,2023-04-23,CUST129,Female,21,Beauty,2,300,600\\r\\n130,2023-03-12,CUST130,Female,57,Clothing,1,500,500\\r\\n131,2023-09-18,CUST131,Female,21,Beauty,2,300,600\\r\\n132,2023-09-10,CUST132,Male,42,Electronics,4,50,200\\r\\n133,2023-02-16,CUST133,Male,20,Electronics,3,300,900\\r\\n134,2023-01-25,CUST134,Male,49,Electronics,1,50,50\\r\\n135,2023-02-26,CUST135,Male,20,Clothing,2,25,50\\r\\n136,2023-03-20,CUST136,Male,44,Electronics,2,300,600\\r\\n137,2023-11-18,CUST137,Male,46,Beauty,2,500,1000\\r\\n138,2023-03-23,CUST138,Male,49,Clothing,4,50,200\\r\\n139,2023-12-15,CUST139,Male,36,Beauty,4,500,2000\\r\\n140,2023-08-05,CUST140,Male,38,Electronics,1,30,30\\r\\n141,2023-11-02,CUST141,Female,22,Electronics,1,50,50\\r\\n142,2023-02-02,CUST142,Male,35,Electronics,4,300,1200\\r\\n143,2023-07-17,CUST143,Female,45,Clothing,1,50,50\\r\\n144,2023-07-15,CUST144,Female,59,Beauty,3,500,1500\\r\\n145,2023-11-02,CUST145,Female,39,Clothing,3,25,75\\r\\n146,2023-08-28,CUST146,Male,38,Clothing,4,50,200\\r\\n147,2023-09-28,CUST147,Male,23,Electronics,1,300,300\\r\\n148,2023-05-09,CUST148,Male,18,Clothing,2,30,60\\r\\n149,2023-10-11,CUST149,Male,22,Clothing,3,25,75\\r\\n150,2023-01-06,CUST150,Female,58,Electronics,4,30,120\\r\\n151,2023-12-15,CUST151,Male,29,Clothing,1,50,50\\r\\n152,2023-02-28,CUST152,Male,43,Electronics,4,500,2000\\r\\n153,2023-12-16,CUST153,Male,63,Electronics,2,500,1000\\r\\n154,2023-10-02,CUST154,Male,51,Electronics,3,300,900\\r\\n155,2023-05-17,CUST155,Male,31,Electronics,4,500,2000\\r\\n156,2023-11-25,CUST156,Female,43,Clothing,4,25,100\\r\\n157,2023-06-24,CUST157,Male,62,Electronics,4,500,2000\\r\\n158,2023-02-27,CUST158,Female,44,Electronics,2,300,600\\r\\n159,2023-05-31,CUST159,Male,26,Clothing,4,50,200\\r\\n160,2023-08-11,CUST160,Female,43,Clothing,2,50,100\\r\\n161,2023-03-22,CUST161,Male,64,Beauty,2,500,1000\\r\\n162,2023-08-21,CUST162,Male,39,Clothing,2,30,60\\r\\n163,2023-01-02,CUST163,Female,64,Clothing,3,50,150\\r\\n164,2023-05-15,CUST164,Female,47,Beauty,3,500,1500\\r\\n165,2023-09-14,CUST165,Female,60,Clothing,4,300,1200\\r\\n166,2023-04-02,CUST166,Male,34,Clothing,4,500,2000\\r\\n167,2023-09-17,CUST167,Female,43,Clothing,3,50,150\\r\\n168,2023-02-24,CUST168,Male,53,Clothing,1,300,300\\r\\n169,2023-11-17,CUST169,Male,18,Beauty,3,500,1500\\r\\n170,2023-06-02,CUST170,Female,25,Clothing,2,25,50\\r\\n171,2023-11-24,CUST171,Female,52,Clothing,3,300,900\\r\\n172,2023-09-17,CUST172,Male,32,Beauty,2,25,50\\r\\n173,2023-11-08,CUST173,Male,64,Electronics,4,30,120\\r\\n174,2023-04-12,CUST174,Female,39,Beauty,1,300,300\\r\\n175,2023-03-20,CUST175,Female,31,Electronics,4,25,100\\r\\n176,2023-07-11,CUST176,Female,43,Beauty,2,50,100\\r\\n177,2023-03-24,CUST177,Male,45,Beauty,2,50,100\\r\\n178,2023-10-04,CUST178,Male,40,Clothing,2,30,60\\r\\n179,2023-09-29,CUST179,Male,31,Electronics,1,300,300\\r\\n180,2023-01-01,CUST180,Male,41,Clothing,3,300,900\\r\\n181,2023-11-03,CUST181,Male,19,Electronics,4,300,1200\\r\\n182,2023-06-15,CUST182,Male,62,Beauty,4,30,120\\r\\n183,2023-09-08,CUST183,Female,43,Beauty,3,300,900\\r\\n184,2023-01-10,CUST184,Male,31,Electronics,4,50,200\\r\\n185,2023-02-27,CUST185,Male,24,Clothing,1,25,25\\r\\n186,2023-07-05,CUST186,Male,20,Clothing,4,50,200\\r\\n187,2023-06-07,CUST187,Female,64,Clothing,2,50,100\\r\\n188,2023-05-03,CUST188,Male,40,Clothing,3,25,75\\r\\n189,2023-01-30,CUST189,Male,63,Beauty,1,50,50\\r\\n190,2023-05-04,CUST190,Female,60,Beauty,3,30,90\\r\\n191,2023-10-18,CUST191,Male,64,Beauty,1,25,25\\r\\n192,2023-02-10,CUST192,Male,62,Beauty,2,50,100\\r\\n193,2023-02-13,CUST193,Male,35,Beauty,3,500,1500\\r\\n194,2023-09-06,CUST194,Male,55,Clothing,4,50,200\\r\\n195,2023-02-05,CUST195,Male,52,Clothing,1,30,30\\r\\n196,2023-09-30,CUST196,Female,32,Clothing,3,300,900\\r\\n197,2023-03-06,CUST197,Female,42,Clothing,4,50,200\\r\\n198,2023-03-07,CUST198,Female,54,Beauty,3,300,900\\r\\n199,2023-12-04,CUST199,Male,45,Beauty,3,500,1500\\r\\n200,2023-09-01,CUST200,Male,27,Beauty,3,50,150\\r\\n201,2023-10-09,CUST201,Male,56,Electronics,1,25,25\\r\\n202,2023-03-26,CUST202,Female,34,Clothing,4,300,1200\\r\\n203,2023-05-16,CUST203,Male,56,Clothing,2,500,1000\\r\\n204,2023-09-28,CUST204,Male,39,Beauty,1,25,25\\r\\n205,2023-11-07,CUST205,Female,43,Clothing,1,25,25\\r\\n206,2023-08-05,CUST206,Male,61,Clothing,1,25,25\\r\\n207,2023-04-19,CUST207,Female,42,Beauty,2,25,50\\r\\n208,2023-10-04,CUST208,Female,34,Electronics,4,50,200\\r\\n209,2023-12-20,CUST209,Female,30,Electronics,4,50,200\\r\\n210,2023-04-13,CUST210,Male,37,Electronics,4,50,200\\r\\n211,2024-01-01,CUST211,Male,42,Beauty,3,500,1500\\r\\n212,2023-06-09,CUST212,Male,21,Clothing,3,500,1500\\r\\n213,2023-07-24,CUST213,Male,27,Beauty,3,500,1500\\r\\n214,2023-12-10,CUST214,Male,20,Beauty,2,30,60\\r\\n215,2023-11-29,CUST215,Male,58,Clothing,3,500,1500\\r\\n216,2023-07-11,CUST216,Male,62,Electronics,2,50,100\\r\\n217,2023-08-13,CUST217,Female,35,Electronics,4,50,200\\r\\n218,2023-09-22,CUST218,Male,64,Beauty,3,30,90\\r\\n219,2023-08-20,CUST219,Female,53,Electronics,3,30,90\\r\\n220,2023-03-03,CUST220,Male,64,Beauty,1,500,500\\r\\n221,2023-05-07,CUST221,Male,39,Beauty,2,300,600\\r\\n222,2023-04-26,CUST222,Male,51,Clothing,4,30,120\\r\\n223,2023-02-02,CUST223,Female,64,Clothing,1,25,25\\r\\n224,2023-06-23,CUST224,Female,25,Clothing,1,50,50\\r\\n225,2023-01-11,CUST225,Female,57,Beauty,4,25,100\\r\\n226,2023-10-29,CUST226,Female,61,Clothing,1,50,50\\r\\n227,2023-10-11,CUST227,Male,36,Electronics,2,50,100\\r\\n228,2023-04-28,CUST228,Female,59,Electronics,2,30,60\\r\\n229,2023-10-29,CUST229,Male,58,Beauty,3,30,90\\r\\n230,2023-04-23,CUST230,Male,54,Beauty,1,25,25\\r\\n231,2023-01-04,CUST231,Female,23,Clothing,3,50,150\\r\\n232,2023-02-06,CUST232,Female,43,Beauty,1,25,25\\r\\n233,2023-12-29,CUST233,Female,51,Beauty,2,300,600\\r\\n234,2023-11-20,CUST234,Female,62,Electronics,2,25,50\\r\\n235,2023-01-31,CUST235,Female,23,Electronics,2,500,1000\\r\\n236,2023-04-28,CUST236,Female,54,Clothing,1,25,25\\r\\n237,2023-02-04,CUST237,Female,50,Beauty,2,500,1000\\r\\n238,2023-01-17,CUST238,Female,39,Beauty,1,500,500\\r\\n239,2023-06-19,CUST239,Male,38,Electronics,3,500,1500\\r\\n240,2023-02-06,CUST240,Female,23,Beauty,1,300,300\\r\\n241,2023-09-21,CUST241,Female,23,Electronics,3,25,75\\r\\n242,2023-05-02,CUST242,Male,21,Clothing,1,25,25\\r\\n243,2023-05-23,CUST243,Female,47,Electronics,3,300,900\\r\\n244,2023-12-09,CUST244,Male,28,Beauty,2,50,100\\r\\n245,2023-09-06,CUST245,Male,47,Clothing,3,30,90\\r\\n246,2023-04-20,CUST246,Female,48,Electronics,2,25,50\\r\\n247,2023-10-04,CUST247,Male,41,Electronics,2,30,60\\r\\n248,2023-03-09,CUST248,Male,26,Clothing,3,300,900\\r\\n249,2023-10-20,CUST249,Male,20,Clothing,1,50,50\\r\\n250,2023-10-23,CUST250,Male,48,Electronics,1,50,50\\r\\n251,2023-08-31,CUST251,Female,57,Beauty,4,50,200\\r\\n252,2023-05-05,CUST252,Male,54,Electronics,1,300,300\\r\\n253,2023-08-31,CUST253,Female,53,Clothing,4,500,2000\\r\\n254,2023-07-28,CUST254,Male,41,Electronics,1,500,500\\r\\n255,2023-04-08,CUST255,Male,48,Clothing,1,30,30\\r\\n256,2023-02-18,CUST256,Male,23,Clothing,2,500,1000\\r\\n257,2023-02-19,CUST257,Male,19,Beauty,4,500,2000\\r\\n258,2023-12-04,CUST258,Female,37,Clothing,1,50,50\\r\\n259,2023-08-09,CUST259,Female,45,Clothing,4,50,200\\r\\n260,2023-07-01,CUST260,Male,28,Beauty,2,30,60\\r\\n261,2023-08-05,CUST261,Male,21,Clothing,2,25,50\\r\\n262,2023-07-30,CUST262,Female,32,Beauty,4,30,120\\r\\n263,2023-08-28,CUST263,Male,23,Beauty,2,30,60\\r\\n264,2023-01-28,CUST264,Male,47,Clothing,3,300,900\\r\\n265,2023-12-11,CUST265,Male,55,Clothing,3,300,900\\r\\n266,2023-12-01,CUST266,Female,19,Electronics,2,30,60\\r\\n267,2023-11-27,CUST267,Female,32,Beauty,3,30,90\\r\\n268,2023-02-20,CUST268,Female,28,Electronics,1,30,30\\r\\n269,2023-02-01,CUST269,Male,25,Clothing,4,500,2000\\r\\n270,2023-07-26,CUST270,Male,43,Electronics,1,300,300\\r\\n271,2023-06-23,CUST271,Female,62,Beauty,4,30,120\\r\\n272,2023-02-25,CUST272,Female,61,Electronics,2,50,100\\r\\n273,2023-05-08,CUST273,Female,22,Beauty,1,50,50\\r\\n274,2023-04-09,CUST274,Female,23,Clothing,2,500,1000\\r\\n275,2023-04-08,CUST275,Male,43,Clothing,2,500,1000\\r\\n276,2023-10-02,CUST276,Female,21,Beauty,4,25,100\\r\\n277,2023-08-18,CUST277,Male,36,Clothing,4,25,100\\r\\n278,2023-03-13,CUST278,Female,37,Clothing,4,25,100\\r\\n279,2023-08-05,CUST279,Male,50,Clothing,1,500,500\\r\\n280,2023-04-04,CUST280,Female,37,Clothing,3,500,1500\\r\\n281,2023-05-23,CUST281,Female,29,Beauty,4,500,2000\\r\\n282,2023-08-25,CUST282,Female,64,Electronics,4,50,200\\r\\n283,2023-05-08,CUST283,Female,18,Electronics,1,500,500\\r\\n284,2023-02-08,CUST284,Male,43,Clothing,4,50,200\\r\\n285,2023-08-15,CUST285,Female,31,Electronics,1,25,25\\r\\n286,2023-10-09,CUST286,Male,55,Electronics,2,25,50\\r\\n287,2023-02-20,CUST287,Male,54,Clothing,4,25,100\\r\\n288,2023-01-26,CUST288,Male,28,Clothing,4,30,120\\r\\n289,2023-11-30,CUST289,Male,53,Electronics,2,30,60\\r\\n290,2023-10-04,CUST290,Female,30,Beauty,2,300,600\\r\\n291,2023-01-08,CUST291,Male,60,Clothing,2,300,600\\r\\n292,2023-02-17,CUST292,Male,20,Beauty,4,300,1200\\r\\n293,2023-05-02,CUST293,Male,50,Electronics,3,30,90\\r\\n294,2023-03-27,CUST294,Female,23,Clothing,3,30,90\\r\\n295,2023-07-28,CUST295,Female,27,Beauty,3,300,900\\r\\n296,2023-09-06,CUST296,Female,22,Clothing,4,300,1200\\r\\n297,2023-09-04,CUST297,Female,40,Electronics,2,500,1000\\r\\n298,2023-04-20,CUST298,Male,27,Beauty,4,300,1200\\r\\n299,2023-07-25,CUST299,Male,61,Electronics,2,500,1000\\r\\n300,2023-01-31,CUST300,Female,19,Electronics,4,50,200\\r\\n301,2023-03-26,CUST301,Male,30,Clothing,4,30,120\\r\\n302,2023-07-14,CUST302,Male,57,Beauty,2,300,600\\r\\n303,2023-01-02,CUST303,Male,19,Electronics,3,30,90\\r\\n304,2023-07-19,CUST304,Female,37,Electronics,2,30,60\\r\\n305,2023-05-16,CUST305,Female,18,Beauty,1,30,30\\r\\n306,2023-08-21,CUST306,Male,54,Electronics,1,50,50\\r\\n307,2023-05-27,CUST307,Female,26,Electronics,2,25,50\\r\\n308,2023-08-05,CUST308,Female,34,Beauty,4,300,1200\\r\\n309,2023-12-23,CUST309,Female,26,Beauty,1,25,25\\r\\n310,2023-10-12,CUST310,Female,28,Beauty,1,25,25\\r\\n311,2023-12-05,CUST311,Female,32,Beauty,4,25,100\\r\\n312,2023-09-07,CUST312,Male,41,Clothing,4,30,120\\r\\n313,2023-03-21,CUST313,Female,55,Beauty,3,500,1500\\r\\n314,2023-04-08,CUST314,Male,52,Clothing,4,30,120\\r\\n315,2023-06-01,CUST315,Male,47,Clothing,2,30,60\\r\\n316,2023-04-22,CUST316,Female,48,Clothing,2,25,50\\r\\n317,2023-01-30,CUST317,Male,22,Electronics,3,30,90\\r\\n318,2023-10-24,CUST318,Male,61,Clothing,1,25,25\\r\\n319,2023-10-05,CUST319,Male,31,Clothing,1,500,500\\r\\n320,2023-02-01,CUST320,Female,28,Electronics,4,300,1200\\r\\n321,2023-06-10,CUST321,Female,26,Electronics,2,25,50\\r\\n322,2023-01-30,CUST322,Male,51,Electronics,1,500,500\\r\\n323,2023-01-26,CUST323,Female,29,Beauty,3,300,900\\r\\n324,2023-10-27,CUST324,Female,52,Electronics,3,50,150\\r\\n325,2023-09-02,CUST325,Female,52,Electronics,2,25,50\\r\\n326,2023-09-15,CUST326,Female,18,Clothing,3,25,75\\r\\n327,2023-09-29,CUST327,Male,57,Electronics,3,50,150\\r\\n328,2023-03-22,CUST328,Male,39,Beauty,2,50,100\\r\\n329,2023-01-30,CUST329,Female,46,Electronics,4,25,100\\r\\n330,2023-09-18,CUST330,Female,25,Beauty,4,50,200\\r\\n331,2023-02-11,CUST331,Male,28,Electronics,3,30,90\\r\\n332,2023-04-06,CUST332,Male,58,Electronics,4,300,1200\\r\\n333,2023-02-05,CUST333,Female,54,Electronics,4,300,1200\\r\\n334,2023-11-01,CUST334,Male,31,Electronics,3,300,900\\r\\n335,2023-02-04,CUST335,Female,47,Beauty,4,30,120\\r\\n336,2023-12-12,CUST336,Female,52,Beauty,3,50,150\\r\\n337,2023-05-01,CUST337,Male,38,Clothing,1,500,500\\r\\n338,2023-07-26,CUST338,Male,54,Beauty,2,50,100\\r\\n339,2023-03-03,CUST339,Female,22,Electronics,2,25,50\\r\\n340,2023-10-19,CUST340,Female,36,Clothing,4,300,1200\\r\\n341,2023-05-07,CUST341,Male,31,Clothing,4,50,200\\r\\n342,2023-10-24,CUST342,Female,43,Clothing,4,500,2000\\r\\n343,2023-11-01,CUST343,Male,21,Electronics,2,25,50\\r\\n344,2023-01-21,CUST344,Female,42,Beauty,1,30,30\\r\\n345,2023-11-14,CUST345,Male,62,Electronics,1,30,30\\r\\n346,2023-02-11,CUST346,Male,59,Clothing,2,500,1000\\r\\n347,2023-08-03,CUST347,Male,42,Electronics,1,25,25\\r\\n348,2023-12-03,CUST348,Female,35,Electronics,2,300,600\\r\\n349,2023-10-26,CUST349,Female,57,Beauty,1,50,50\\r\\n350,2023-10-17,CUST350,Male,25,Beauty,3,25,75\\r\\n351,2023-09-25,CUST351,Female,56,Clothing,3,30,90\\r\\n352,2023-06-11,CUST352,Male,57,Electronics,2,500,1000\\r\\n353,2023-05-14,CUST353,Male,31,Electronics,1,500,500\\r\\n354,2023-04-15,CUST354,Female,49,Beauty,4,50,200\\r\\n355,2023-12-09,CUST355,Female,55,Electronics,1,500,500\\r\\n356,2023-06-10,CUST356,Male,50,Electronics,3,500,1500\\r\\n357,2023-05-03,CUST357,Female,40,Electronics,3,25,75\\r\\n358,2023-05-16,CUST358,Female,32,Beauty,1,300,300\\r\\n359,2023-07-22,CUST359,Male,50,Clothing,1,50,50\\r\\n360,2023-03-09,CUST360,Male,42,Clothing,4,25,100\\r\\n361,2023-12-10,CUST361,Female,34,Electronics,4,300,1200\\r\\n362,2023-11-27,CUST362,Male,50,Clothing,1,25,25\\r\\n363,2023-06-03,CUST363,Male,64,Beauty,1,25,25\\r\\n364,2023-08-23,CUST364,Female,19,Beauty,1,500,500\\r\\n365,2023-06-11,CUST365,Male,31,Clothing,1,300,300\\r\\n366,2023-02-07,CUST366,Male,57,Clothing,2,50,100\\r\\n367,2023-01-05,CUST367,Female,57,Electronics,1,50,50\\r\\n368,2023-08-23,CUST368,Female,56,Clothing,4,300,1200\\r\\n369,2023-11-15,CUST369,Male,23,Electronics,3,500,1500\\r\\n370,2023-10-16,CUST370,Male,23,Electronics,2,30,60\\r\\n371,2023-02-21,CUST371,Female,20,Beauty,1,25,25\\r\\n372,2023-02-07,CUST372,Female,24,Beauty,3,500,1500\\r\\n373,2023-10-03,CUST373,Female,25,Beauty,2,300,600\\r\\n374,2023-04-20,CUST374,Female,59,Beauty,3,25,75\\r\\n375,2023-09-17,CUST375,Male,32,Clothing,1,50,50\\r\\n376,2023-05-16,CUST376,Female,64,Beauty,1,30,30\\r\\n377,2023-03-09,CUST377,Female,46,Clothing,4,50,200\\r\\n378,2023-06-28,CUST378,Male,50,Beauty,1,300,300\\r\\n379,2023-02-05,CUST379,Female,47,Clothing,1,25,25\\r\\n380,2023-05-06,CUST380,Male,56,Electronics,2,300,600\\r\\n381,2023-07-09,CUST381,Female,44,Clothing,4,25,100\\r\\n382,2023-05-26,CUST382,Female,53,Clothing,2,500,1000\\r\\n383,2023-03-22,CUST383,Female,46,Beauty,3,30,90\\r\\n384,2023-08-13,CUST384,Male,55,Clothing,1,500,500\\r\\n385,2023-10-06,CUST385,Male,50,Electronics,3,500,1500\\r\\n386,2023-12-27,CUST386,Female,54,Electronics,2,300,600\\r\\n387,2023-06-04,CUST387,Male,44,Beauty,1,30,30\\r\\n388,2023-11-10,CUST388,Male,50,Electronics,1,25,25\\r\\n389,2023-12-01,CUST389,Male,21,Clothing,2,25,50\\r\\n390,2023-09-28,CUST390,Male,39,Electronics,2,50,100\\r\\n391,2023-01-05,CUST391,Male,19,Beauty,2,25,50\\r\\n392,2023-12-08,CUST392,Male,27,Clothing,2,300,600\\r\\n393,2023-10-11,CUST393,Female,22,Beauty,2,500,1000\\r\\n394,2023-06-03,CUST394,Female,27,Clothing,1,500,500\\r\\n395,2023-12-06,CUST395,Male,50,Electronics,2,500,1000\\r\\n396,2023-02-23,CUST396,Female,55,Beauty,1,30,30\\r\\n397,2023-03-10,CUST397,Female,30,Beauty,1,25,25\\r\\n398,2023-05-16,CUST398,Female,48,Clothing,2,300,600\\r\\n399,2023-03-01,CUST399,Female,64,Beauty,2,30,60\\r\\n400,2023-02-24,CUST400,Male,53,Clothing,4,50,200\\r\\n401,2023-10-11,CUST401,Female,62,Clothing,1,300,300\\r\\n402,2023-03-21,CUST402,Female,41,Clothing,2,300,600\\r\\n403,2023-05-20,CUST403,Male,32,Clothing,2,300,600\\r\\n404,2023-05-25,CUST404,Male,46,Electronics,2,500,1000\\r\\n405,2023-11-06,CUST405,Female,25,Clothing,4,300,1200\\r\\n406,2023-04-18,CUST406,Female,22,Beauty,4,25,100\\r\\n407,2023-06-25,CUST407,Female,46,Electronics,3,300,900\\r\\n408,2023-04-15,CUST408,Female,64,Beauty,1,500,500\\r\\n409,2023-12-18,CUST409,Female,21,Electronics,3,300,900\\r\\n410,2023-11-21,CUST410,Female,29,Clothing,2,50,100\\r\\n411,2023-05-16,CUST411,Male,62,Electronics,4,50,200\\r\\n412,2023-09-16,CUST412,Female,19,Electronics,4,500,2000\\r\\n413,2023-09-08,CUST413,Female,44,Beauty,3,25,75\\r\\n414,2023-05-09,CUST414,Male,48,Beauty,4,25,100\\r\\n415,2023-01-27,CUST415,Male,53,Clothing,2,30,60\\r\\n416,2023-02-17,CUST416,Male,53,Electronics,4,500,2000\\r\\n417,2023-11-21,CUST417,Male,43,Electronics,3,300,900\\r\\n418,2023-08-05,CUST418,Female,60,Electronics,2,500,1000\\r\\n419,2023-05-22,CUST419,Female,44,Clothing,3,30,90\\r\\n420,2023-01-23,CUST420,Female,22,Clothing,4,500,2000\\r\\n421,2023-01-02,CUST421,Female,37,Clothing,3,500,1500\\r\\n422,2023-06-20,CUST422,Female,28,Clothing,3,30,90\\r\\n423,2023-03-08,CUST423,Female,27,Clothing,1,25,25\\r\\n424,2023-11-23,CUST424,Male,57,Beauty,4,300,1200\\r\\n425,2023-05-15,CUST425,Female,55,Electronics,4,30,120\\r\\n426,2023-03-24,CUST426,Male,23,Electronics,3,50,150\\r\\n427,2023-08-15,CUST427,Male,25,Electronics,1,25,25\\r\\n428,2023-10-10,CUST428,Female,40,Electronics,4,50,200\\r\\n429,2023-12-28,CUST429,Male,64,Electronics,2,25,50\\r\\n430,2023-08-07,CUST430,Female,43,Electronics,3,300,900\\r\\n431,2023-10-15,CUST431,Male,63,Electronics,4,300,1200\\r\\n432,2023-01-05,CUST432,Female,60,Electronics,2,500,1000\\r\\n433,2023-02-27,CUST433,Male,29,Beauty,4,50,200\\r\\n434,2023-02-08,CUST434,Female,43,Electronics,2,25,50\\r\\n435,2023-12-20,CUST435,Female,30,Beauty,3,300,900\\r\\n436,2023-03-18,CUST436,Female,57,Clothing,4,30,120\\r\\n437,2023-10-07,CUST437,Female,35,Electronics,4,300,1200\\r\\n438,2023-01-19,CUST438,Female,42,Clothing,1,30,30\\r\\n439,2023-07-09,CUST439,Male,50,Clothing,3,25,75\\r\\n440,2023-10-26,CUST440,Male,64,Clothing,2,300,600\\r\\n441,2023-10-10,CUST441,Male,57,Beauty,4,300,1200\\r\\n442,2023-03-17,CUST442,Female,60,Clothing,4,25,100\\r\\n443,2023-08-09,CUST443,Male,29,Clothing,2,300,600\\r\\n444,2023-03-07,CUST444,Female,61,Clothing,3,30,90\\r\\n445,2023-01-22,CUST445,Female,53,Electronics,1,300,300\\r\\n446,2023-06-07,CUST446,Male,21,Electronics,1,50,50\\r\\n447,2023-07-06,CUST447,Male,22,Beauty,4,500,2000\\r\\n448,2023-01-21,CUST448,Female,54,Beauty,2,30,60\\r\\n449,2023-07-03,CUST449,Male,25,Electronics,4,50,200\\r\\n450,2023-04-18,CUST450,Female,59,Beauty,2,25,50\\r\\n451,2023-12-16,CUST451,Female,45,Electronics,1,30,30\\r\\n452,2023-05-08,CUST452,Female,48,Clothing,3,500,1500\\r\\n453,2023-12-08,CUST453,Female,26,Clothing,2,500,1000\\r\\n454,2023-02-22,CUST454,Female,46,Beauty,1,25,25\\r\\n455,2023-07-01,CUST455,Male,31,Electronics,4,25,100\\r\\n456,2023-10-14,CUST456,Male,57,Electronics,2,30,60\\r\\n457,2023-07-28,CUST457,Female,58,Beauty,3,300,900\\r\\n458,2023-11-14,CUST458,Female,39,Electronics,4,25,100\\r\\n459,2023-03-21,CUST459,Male,28,Clothing,4,300,1200\\r\\n460,2023-05-02,CUST460,Male,40,Beauty,1,50,50\\r\\n461,2023-03-25,CUST461,Female,18,Beauty,2,500,1000\\r\\n462,2023-04-01,CUST462,Male,63,Electronics,4,300,1200\\r\\n463,2023-07-31,CUST463,Female,54,Beauty,3,500,1500\\r\\n464,2023-01-13,CUST464,Male,38,Electronics,2,300,600\\r\\n465,2023-04-02,CUST465,Female,43,Electronics,3,50,150\\r\\n466,2023-06-20,CUST466,Male,63,Electronics,4,25,100\\r\\n467,2023-07-30,CUST467,Female,53,Electronics,3,50,150\\r\\n468,2023-12-09,CUST468,Male,40,Electronics,1,25,25\\r\\n469,2023-05-08,CUST469,Male,18,Beauty,3,25,75\\r\\n470,2023-05-17,CUST470,Female,57,Clothing,2,500,1000\\r\\n471,2023-03-23,CUST471,Male,32,Clothing,3,50,150\\r\\n472,2023-12-26,CUST472,Female,38,Beauty,3,300,900\\r\\n473,2023-02-25,CUST473,Male,64,Beauty,1,50,50\\r\\n474,2023-07-15,CUST474,Female,26,Clothing,3,500,1500\\r\\n475,2023-01-20,CUST475,Male,26,Clothing,3,25,75\\r\\n476,2023-08-29,CUST476,Female,27,Clothing,4,500,2000\\r\\n477,2023-04-24,CUST477,Male,43,Clothing,4,30,120\\r\\n478,2023-04-13,CUST478,Female,58,Clothing,2,30,60\\r\\n479,2023-08-24,CUST479,Male,52,Electronics,4,300,1200\\r\\n480,2023-06-29,CUST480,Female,42,Beauty,4,500,2000\\r\\n481,2023-06-06,CUST481,Female,43,Electronics,4,300,1200\\r\\n482,2023-04-27,CUST482,Female,28,Clothing,4,300,1200\\r\\n483,2023-04-25,CUST483,Male,55,Clothing,1,30,30\\r\\n484,2023-01-13,CUST484,Female,19,Clothing,4,300,1200\\r\\n485,2023-12-04,CUST485,Male,24,Electronics,1,30,30\\r\\n486,2023-04-09,CUST486,Female,35,Electronics,1,25,25\\r\\n487,2023-07-24,CUST487,Male,44,Clothing,4,500,2000\\r\\n488,2023-06-18,CUST488,Female,51,Electronics,3,300,900\\r\\n489,2023-05-23,CUST489,Male,44,Electronics,1,30,30\\r\\n490,2023-02-05,CUST490,Male,34,Clothing,3,50,150\\r\\n491,2023-05-23,CUST491,Female,60,Electronics,3,300,900\\r\\n492,2023-06-29,CUST492,Male,61,Beauty,4,25,100\\r\\n493,2023-11-25,CUST493,Male,41,Beauty,2,25,50\\r\\n494,2023-09-18,CUST494,Female,42,Beauty,4,50,200\\r\\n495,2023-07-24,CUST495,Male,24,Beauty,2,30,60\\r\\n496,2023-12-14,CUST496,Male,23,Clothing,2,300,600\\r\\n497,2023-10-02,CUST497,Male,41,Clothing,4,30,120\\r\\n498,2023-06-19,CUST498,Female,50,Clothing,4,25,100\\r\\n499,2023-01-15,CUST499,Male,46,Beauty,2,30,60\\r\\n500,2023-03-01,CUST500,Female,60,Beauty,4,25,100\\r\\n501,2023-05-14,CUST501,Male,39,Electronics,2,30,60\\r\\n502,2023-04-02,CUST502,Male,43,Electronics,3,50,150\\r\\n503,2023-10-25,CUST503,Male,45,Beauty,4,500,2000\\r\\n504,2023-05-16,CUST504,Female,38,Beauty,3,50,150\\r\\n505,2023-01-20,CUST505,Male,24,Beauty,1,50,50\\r\\n506,2023-02-25,CUST506,Male,34,Beauty,3,500,1500\\r\\n507,2023-11-02,CUST507,Female,37,Electronics,3,500,1500\\r\\n508,2023-08-11,CUST508,Male,58,Beauty,2,300,600\\r\\n509,2023-06-26,CUST509,Female,37,Electronics,3,300,900\\r\\n510,2023-06-10,CUST510,Female,39,Beauty,4,50,200\\r\\n511,2023-08-12,CUST511,Male,45,Beauty,2,50,100\\r\\n512,2023-11-07,CUST512,Female,57,Beauty,1,25,25\\r\\n513,2023-09-19,CUST513,Male,24,Electronics,4,25,100\\r\\n514,2023-03-01,CUST514,Female,18,Electronics,1,300,300\\r\\n515,2023-07-17,CUST515,Female,49,Clothing,3,300,900\\r\\n516,2023-10-23,CUST516,Male,30,Beauty,4,25,100\\r\\n517,2023-04-08,CUST517,Female,47,Clothing,4,25,100\\r\\n518,2023-05-11,CUST518,Female,40,Clothing,1,30,30\\r\\n519,2023-01-23,CUST519,Female,36,Electronics,4,30,120\\r\\n520,2023-12-29,CUST520,Female,49,Electronics,4,25,100\\r\\n521,2023-08-12,CUST521,Female,47,Clothing,4,30,120\\r\\n522,2023-01-01,CUST522,Male,46,Beauty,3,500,1500\\r\\n523,2023-09-24,CUST523,Female,62,Electronics,1,300,300\\r\\n524,2023-10-03,CUST524,Male,46,Beauty,4,300,1200\\r\\n525,2023-12-18,CUST525,Female,47,Beauty,2,25,50\\r\\n526,2023-12-10,CUST526,Male,33,Clothing,2,50,100\\r\\n527,2023-04-11,CUST527,Male,57,Clothing,2,25,50\\r\\n528,2023-07-06,CUST528,Female,36,Clothing,2,30,60\\r\\n529,2023-08-09,CUST529,Female,35,Clothing,3,50,150\\r\\n530,2023-02-05,CUST530,Female,18,Electronics,4,30,120\\r\\n531,2023-12-07,CUST531,Male,31,Electronics,1,500,500\\r\\n532,2023-06-19,CUST532,Female,64,Clothing,4,30,120\\r\\n533,2023-11-16,CUST533,Male,19,Electronics,3,500,1500\\r\\n534,2023-06-10,CUST534,Male,45,Clothing,2,500,1000\\r\\n535,2023-12-06,CUST535,Male,47,Beauty,3,30,90\\r\\n536,2023-03-05,CUST536,Female,55,Beauty,4,30,120\\r\\n537,2023-06-03,CUST537,Female,21,Beauty,1,500,500\\r\\n538,2023-09-17,CUST538,Male,18,Clothing,3,50,150\\r\\n539,2023-06-08,CUST539,Male,25,Beauty,1,500,500\\r\\n540,2023-12-08,CUST540,Female,46,Electronics,3,300,900\\r\\n541,2023-07-29,CUST541,Male,56,Beauty,1,500,500\\r\\n542,2023-06-17,CUST542,Female,20,Beauty,1,50,50\\r\\n543,2023-07-26,CUST543,Male,49,Beauty,2,300,600\\r\\n544,2023-12-23,CUST544,Female,27,Electronics,1,25,25\\r\\n545,2023-06-01,CUST545,Male,27,Clothing,2,25,50\\r\\n546,2023-10-11,CUST546,Female,36,Electronics,4,50,200\\r\\n547,2023-03-07,CUST547,Male,63,Clothing,4,500,2000\\r\\n548,2023-04-09,CUST548,Female,51,Clothing,2,30,60\\r\\n549,2023-08-04,CUST549,Female,50,Beauty,2,50,100\\r\\n550,2023-12-07,CUST550,Male,40,Clothing,3,300,900\\r\\n551,2023-07-14,CUST551,Male,45,Electronics,3,300,900\\r\\n552,2023-12-13,CUST552,Female,49,Electronics,3,25,75\\r\\n553,2023-03-31,CUST553,Male,24,Clothing,4,300,1200\\r\\n554,2023-11-12,CUST554,Female,46,Beauty,3,50,150\\r\\n555,2023-10-19,CUST555,Male,25,Beauty,1,300,300\\r\\n556,2023-06-04,CUST556,Female,18,Electronics,1,50,50\\r\\n557,2023-07-27,CUST557,Female,20,Beauty,3,30,90\\r\\n558,2023-10-08,CUST558,Female,41,Clothing,1,25,25\\r\\n559,2023-01-01,CUST559,Female,40,Clothing,4,300,1200\\r\\n560,2023-06-05,CUST560,Female,25,Electronics,1,50,50\\r\\n561,2023-05-27,CUST561,Female,64,Clothing,4,500,2000\\r\\n562,2023-04-18,CUST562,Male,54,Electronics,2,25,50\\r\\n563,2023-08-09,CUST563,Male,20,Clothing,2,30,60\\r\\n564,2023-10-24,CUST564,Male,50,Electronics,2,50,100\\r\\n565,2023-11-07,CUST565,Female,45,Beauty,2,30,60\\r\\n566,2023-12-02,CUST566,Female,64,Clothing,1,30,30\\r\\n567,2023-06-14,CUST567,Female,25,Clothing,3,300,900\\r\\n568,2023-08-27,CUST568,Female,51,Electronics,1,300,300\\r\\n569,2023-08-15,CUST569,Male,52,Electronics,4,50,200\\r\\n570,2023-08-15,CUST570,Male,49,Clothing,1,500,500\\r\\n571,2023-12-12,CUST571,Female,41,Electronics,1,50,50\\r\\n572,2023-04-20,CUST572,Male,31,Clothing,4,500,2000\\r\\n573,2023-09-19,CUST573,Male,49,Beauty,2,30,60\\r\\n574,2023-08-31,CUST574,Female,63,Electronics,2,25,50\\r\\n575,2023-03-28,CUST575,Male,60,Clothing,2,50,100\\r\\n576,2023-12-04,CUST576,Female,33,Beauty,3,50,150\\r\\n577,2023-02-13,CUST577,Male,21,Beauty,4,500,2000\\r\\n578,2023-05-26,CUST578,Female,54,Clothing,4,30,120\\r\\n579,2023-09-21,CUST579,Female,38,Electronics,1,30,30\\r\\n580,2023-12-06,CUST580,Female,31,Clothing,3,500,1500\\r\\n581,2023-11-21,CUST581,Female,48,Beauty,2,30,60\\r\\n582,2023-11-14,CUST582,Male,35,Clothing,3,300,900\\r\\n583,2023-06-21,CUST583,Female,24,Electronics,4,25,100\\r\\n584,2023-02-17,CUST584,Female,27,Beauty,4,50,200\\r\\n585,2023-05-01,CUST585,Female,24,Clothing,1,25,25\\r\\n586,2023-12-11,CUST586,Male,50,Electronics,1,50,50\\r\\n587,2023-06-08,CUST587,Female,40,Beauty,4,300,1200\\r\\n588,2023-04-26,CUST588,Male,38,Electronics,2,30,60\\r\\n589,2023-04-12,CUST589,Female,36,Beauty,2,500,1000\\r\\n590,2023-03-17,CUST590,Male,36,Clothing,3,300,900\\r\\n591,2023-01-13,CUST591,Male,53,Electronics,4,25,100\\r\\n592,2023-01-24,CUST592,Female,46,Beauty,4,500,2000\\r\\n593,2023-05-06,CUST593,Male,35,Electronics,2,30,60\\r\\n594,2023-09-01,CUST594,Female,19,Electronics,2,300,600\\r\\n595,2023-11-09,CUST595,Female,18,Clothing,4,500,2000\\r\\n596,2023-02-07,CUST596,Female,64,Electronics,1,300,300\\r\\n597,2023-08-22,CUST597,Male,22,Beauty,4,300,1200\\r\\n598,2023-08-01,CUST598,Male,37,Beauty,4,30,120\\r\\n599,2023-11-19,CUST599,Female,28,Beauty,2,50,100\\r\\n600,2023-10-22,CUST600,Female,59,Beauty,2,500,1000\\r\\n601,2023-04-10,CUST601,Male,19,Clothing,1,30,30\\r\\n602,2023-12-23,CUST602,Female,20,Electronics,1,300,300\\r\\n603,2023-07-16,CUST603,Female,40,Clothing,3,30,90\\r\\n604,2023-09-11,CUST604,Female,29,Electronics,4,50,200\\r\\n605,2023-07-24,CUST605,Male,37,Electronics,2,500,1000\\r\\n606,2023-05-05,CUST606,Male,22,Electronics,1,50,50\\r\\n607,2023-03-17,CUST607,Male,54,Clothing,3,25,75\\r\\n608,2023-12-02,CUST608,Female,55,Electronics,3,500,1500\\r\\n609,2023-12-19,CUST609,Female,47,Clothing,2,50,100\\r\\n610,2023-01-03,CUST610,Female,26,Beauty,2,300,600\\r\\n611,2023-02-24,CUST611,Male,51,Beauty,3,500,1500\\r\\n612,2023-08-06,CUST612,Female,61,Electronics,1,500,500\\r\\n613,2023-04-23,CUST613,Female,52,Clothing,3,30,90\\r\\n614,2023-04-01,CUST614,Female,39,Beauty,4,300,1200\\r\\n615,2023-12-23,CUST615,Female,61,Clothing,4,25,100\\r\\n616,2023-09-23,CUST616,Male,41,Clothing,2,50,100\\r\\n617,2023-08-26,CUST617,Male,34,Electronics,1,30,30\\r\\n618,2023-01-26,CUST618,Female,27,Beauty,1,50,50\\r\\n619,2023-10-13,CUST619,Male,47,Electronics,4,25,100\\r\\n620,2023-05-08,CUST620,Male,63,Electronics,3,25,75\\r\\n621,2023-03-04,CUST621,Female,40,Beauty,2,500,1000\\r\\n622,2023-08-22,CUST622,Female,49,Beauty,3,25,75\\r\\n623,2023-03-10,CUST623,Male,34,Clothing,3,50,150\\r\\n624,2023-08-26,CUST624,Female,34,Beauty,3,300,900\\r\\n625,2023-12-08,CUST625,Male,31,Clothing,1,300,300\\r\\n626,2023-09-29,CUST626,Female,26,Clothing,4,500,2000\\r\\n627,2023-10-14,CUST627,Male,57,Clothing,1,50,50\\r\\n628,2023-11-01,CUST628,Female,19,Beauty,4,50,200\\r\\n629,2023-06-12,CUST629,Male,62,Electronics,2,25,50\\r\\n630,2023-08-15,CUST630,Male,42,Clothing,2,50,100\\r\\n631,2023-11-10,CUST631,Male,56,Electronics,3,30,90\\r\\n632,2023-09-16,CUST632,Female,26,Electronics,4,25,100\\r\\n633,2023-08-07,CUST633,Male,39,Beauty,4,30,120\\r\\n634,2023-10-08,CUST634,Male,60,Electronics,4,500,2000\\r\\n635,2023-08-17,CUST635,Female,63,Electronics,3,300,900\\r\\n636,2023-03-23,CUST636,Female,21,Beauty,3,500,1500\\r\\n637,2023-09-01,CUST637,Male,43,Clothing,2,300,600\\r\\n638,2023-08-19,CUST638,Male,46,Electronics,1,500,500\\r\\n639,2023-05-13,CUST639,Female,62,Beauty,4,50,200\\r\\n640,2023-05-07,CUST640,Female,51,Electronics,4,30,120\\r\\n641,2023-11-23,CUST641,Female,40,Electronics,1,300,300\\r\\n642,2023-05-22,CUST642,Female,54,Clothing,4,25,100\\r\\n643,2023-09-24,CUST643,Female,28,Electronics,3,30,90\\r\\n644,2023-09-06,CUST644,Male,23,Beauty,3,25,75\\r\\n645,2023-11-17,CUST645,Female,35,Electronics,4,30,120\\r\\n646,2023-05-03,CUST646,Male,38,Clothing,3,30,90\\r\\n647,2023-05-21,CUST647,Male,59,Clothing,3,500,1500\\r\\n648,2023-08-14,CUST648,Male,53,Beauty,4,300,1200\\r\\n649,2023-02-09,CUST649,Female,58,Clothing,2,300,600\\r\\n650,2024-01-01,CUST650,Male,55,Electronics,1,30,30\\r\\n651,2023-05-27,CUST651,Male,51,Clothing,3,50,150\\r\\n652,2023-05-01,CUST652,Female,34,Beauty,2,50,100\\r\\n653,2023-05-20,CUST653,Male,54,Clothing,3,25,75\\r\\n654,2023-06-21,CUST654,Male,42,Clothing,3,25,75\\r\\n655,2023-06-13,CUST655,Female,55,Clothing,1,500,500\\r\\n656,2023-10-04,CUST656,Male,29,Beauty,3,30,90\\r\\n657,2023-02-11,CUST657,Male,40,Clothing,1,25,25\\r\\n658,2023-03-12,CUST658,Male,59,Clothing,1,25,25\\r\\n659,2023-03-19,CUST659,Female,39,Electronics,1,30,30\\r\\n660,2023-04-29,CUST660,Female,38,Beauty,2,500,1000\\r\\n661,2023-07-16,CUST661,Female,44,Clothing,4,25,100\\r\\n662,2023-12-22,CUST662,Male,48,Beauty,2,500,1000\\r\\n663,2023-03-20,CUST663,Male,23,Clothing,4,300,1200\\r\\n664,2023-12-28,CUST664,Female,44,Clothing,4,500,2000\\r\\n665,2023-04-20,CUST665,Male,57,Clothing,1,50,50\\r\\n666,2023-02-02,CUST666,Male,51,Electronics,3,50,150\\r\\n667,2023-08-01,CUST667,Female,29,Electronics,1,500,500\\r\\n668,2023-07-28,CUST668,Female,62,Electronics,3,50,150\\r\\n669,2023-06-19,CUST669,Male,24,Beauty,4,300,1200\\r\\n670,2023-10-05,CUST670,Male,27,Beauty,1,30,30\\r\\n671,2023-08-27,CUST671,Male,62,Electronics,3,50,150\\r\\n672,2023-08-01,CUST672,Female,34,Beauty,2,50,100\\r\\n673,2023-02-01,CUST673,Female,43,Clothing,3,500,1500\\r\\n674,2023-04-16,CUST674,Female,38,Clothing,1,300,300\\r\\n675,2023-08-04,CUST675,Female,45,Clothing,2,30,60\\r\\n676,2023-07-19,CUST676,Male,63,Electronics,3,500,1500\\r\\n677,2023-10-27,CUST677,Female,19,Beauty,3,500,1500\\r\\n678,2023-12-23,CUST678,Female,60,Electronics,3,300,900\\r\\n679,2023-01-11,CUST679,Female,18,Beauty,3,30,90\\r\\n680,2023-10-22,CUST680,Female,53,Clothing,3,300,900\\r\\n681,2023-07-14,CUST681,Female,43,Electronics,2,30,60\\r\\n682,2023-09-02,CUST682,Male,46,Beauty,4,300,1200\\r\\n683,2023-01-04,CUST683,Male,38,Beauty,2,500,1000\\r\\n684,2023-06-30,CUST684,Female,28,Clothing,2,500,1000\\r\\n685,2023-06-02,CUST685,Male,57,Electronics,2,25,50\\r\\n686,2023-07-19,CUST686,Female,28,Electronics,4,50,200\\r\\n687,2023-08-03,CUST687,Female,53,Electronics,1,300,300\\r\\n688,2023-10-03,CUST688,Male,56,Clothing,4,25,100\\r\\n689,2023-10-07,CUST689,Male,57,Electronics,2,50,100\\r\\n690,2023-11-05,CUST690,Female,52,Clothing,3,300,900\\r\\n691,2023-04-23,CUST691,Female,51,Clothing,3,30,90\\r\\n692,2023-09-07,CUST692,Female,64,Clothing,2,50,100\\r\\n693,2023-04-23,CUST693,Male,41,Beauty,3,500,1500\\r\\n694,2023-05-20,CUST694,Female,39,Electronics,2,25,50\\r\\n695,2023-08-12,CUST695,Female,22,Electronics,3,50,150\\r\\n696,2023-09-06,CUST696,Female,50,Clothing,4,50,200\\r\\n697,2023-01-15,CUST697,Male,53,Clothing,1,500,500\\r\\n698,2023-07-19,CUST698,Female,64,Electronics,1,300,300\\r\\n699,2023-06-22,CUST699,Female,37,Clothing,4,30,120\\r\\n700,2023-12-09,CUST700,Male,36,Electronics,4,500,2000\\r\\n701,2023-12-14,CUST701,Female,52,Beauty,2,30,60\\r\\n702,2023-07-27,CUST702,Female,60,Clothing,2,300,600\\r\\n703,2023-03-26,CUST703,Male,34,Electronics,2,50,100\\r\\n704,2023-08-28,CUST704,Female,62,Clothing,3,30,90\\r\\n705,2023-03-07,CUST705,Male,60,Electronics,2,25,50\\r\\n706,2023-11-15,CUST706,Male,51,Electronics,4,25,100\\r\\n707,2023-10-01,CUST707,Female,26,Clothing,1,500,500\\r\\n708,2023-01-14,CUST708,Female,43,Beauty,3,300,900\\r\\n709,2023-07-21,CUST709,Female,19,Electronics,2,500,1000\\r\\n710,2023-10-31,CUST710,Female,26,Electronics,3,500,1500\\r\\n711,2023-10-16,CUST711,Male,26,Electronics,3,500,1500\\r\\n712,2023-12-06,CUST712,Female,57,Beauty,2,25,50\\r\\n713,2023-01-14,CUST713,Male,34,Beauty,3,25,75\\r\\n714,2023-02-12,CUST714,Female,18,Clothing,1,500,500\\r\\n715,2023-11-26,CUST715,Female,42,Beauty,4,25,100\\r\\n716,2023-08-08,CUST716,Female,60,Clothing,4,300,1200\\r\\n717,2023-03-11,CUST717,Male,57,Clothing,1,500,500\\r\\n718,2023-08-25,CUST718,Female,59,Beauty,3,25,75\\r\\n719,2023-04-04,CUST719,Female,42,Clothing,2,30,60\\r\\n720,2023-01-26,CUST720,Female,56,Beauty,3,500,1500\\r\\n721,2023-05-14,CUST721,Female,52,Clothing,1,500,500\\r\\n722,2023-07-14,CUST722,Male,20,Beauty,3,300,900\\r\\n723,2023-06-17,CUST723,Female,54,Beauty,4,50,200\\r\\n724,2023-04-19,CUST724,Male,61,Clothing,3,50,150\\r\\n725,2023-08-21,CUST725,Male,61,Electronics,1,300,300\\r\\n726,2023-06-17,CUST726,Male,47,Clothing,4,300,1200\\r\\n727,2023-06-22,CUST727,Male,55,Beauty,3,300,900\\r\\n728,2023-07-14,CUST728,Male,51,Electronics,3,50,150\\r\\n729,2023-05-23,CUST729,Male,29,Clothing,4,300,1200\\r\\n730,2023-08-04,CUST730,Female,36,Clothing,2,25,50\\r\\n731,2023-05-10,CUST731,Male,54,Clothing,4,500,2000\\r\\n732,2023-02-11,CUST732,Male,61,Electronics,2,500,1000\\r\\n733,2023-08-29,CUST733,Male,34,Beauty,1,30,30\\r\\n734,2023-01-10,CUST734,Female,27,Clothing,1,30,30\\r\\n735,2023-10-04,CUST735,Female,64,Clothing,4,500,2000\\r\\n736,2023-01-27,CUST736,Male,29,Clothing,4,25,100\\r\\n737,2023-06-29,CUST737,Female,33,Clothing,1,50,50\\r\\n738,2023-04-25,CUST738,Male,41,Clothing,2,50,100\\r\\n739,2023-11-29,CUST739,Male,36,Beauty,1,25,25\\r\\n740,2023-02-05,CUST740,Female,25,Beauty,4,50,200\\r\\n741,2023-11-30,CUST741,Male,48,Clothing,1,300,300\\r\\n742,2023-01-21,CUST742,Female,38,Electronics,4,500,2000\\r\\n743,2023-01-16,CUST743,Female,34,Beauty,4,500,2000\\r\\n744,2023-05-07,CUST744,Male,40,Electronics,1,25,25\\r\\n745,2023-04-13,CUST745,Male,54,Beauty,2,50,100\\r\\n746,2023-01-11,CUST746,Female,33,Clothing,3,30,90\\r\\n747,2023-11-15,CUST747,Male,23,Beauty,1,30,30\\r\\n748,2023-03-20,CUST748,Male,25,Clothing,3,50,150\\r\\n749,2023-05-03,CUST749,Male,42,Beauty,1,30,30\\r\\n750,2023-03-06,CUST750,Female,35,Clothing,3,25,75\\r\\n751,2023-08-31,CUST751,Female,42,Clothing,2,25,50\\r\\n752,2023-12-09,CUST752,Male,29,Clothing,2,50,100\\r\\n753,2023-02-28,CUST753,Female,32,Clothing,1,30,30\\r\\n754,2023-10-16,CUST754,Female,43,Electronics,4,25,100\\r\\n755,2023-04-22,CUST755,Female,58,Clothing,3,25,75\\r\\n756,2023-08-27,CUST756,Female,62,Electronics,4,300,1200\\r\\n757,2023-12-25,CUST757,Female,43,Electronics,4,300,1200\\r\\n758,2023-05-12,CUST758,Male,64,Clothing,4,25,100\\r\\n759,2023-07-08,CUST759,Male,49,Electronics,2,50,100\\r\\n760,2023-03-27,CUST760,Male,27,Beauty,1,500,500\\r\\n761,2023-11-07,CUST761,Female,33,Clothing,1,500,500\\r\\n762,2023-11-07,CUST762,Female,24,Electronics,2,25,50\\r\\n763,2023-02-28,CUST763,Male,34,Clothing,2,25,50\\r\\n764,2023-03-25,CUST764,Female,40,Clothing,1,25,25\\r\\n765,2023-06-09,CUST765,Male,43,Clothing,4,50,200\\r\\n766,2023-02-25,CUST766,Male,38,Electronics,3,300,900\\r\\n767,2023-10-24,CUST767,Male,39,Beauty,3,25,75\\r\\n768,2023-01-14,CUST768,Female,24,Beauty,3,25,75\\r\\n769,2023-06-09,CUST769,Female,31,Electronics,4,30,120\\r\\n770,2023-10-22,CUST770,Male,32,Clothing,1,50,50\\r\\n771,2023-12-13,CUST771,Male,24,Electronics,2,25,50\\r\\n772,2023-07-12,CUST772,Male,26,Electronics,1,30,30\\r\\n773,2023-07-23,CUST773,Male,25,Electronics,4,500,2000\\r\\n774,2023-04-12,CUST774,Female,40,Clothing,2,25,50\\r\\n775,2023-02-08,CUST775,Female,46,Electronics,4,25,100\\r\\n776,2023-10-31,CUST776,Male,35,Clothing,3,30,90\\r\\n777,2023-12-20,CUST777,Male,48,Electronics,3,50,150\\r\\n778,2023-11-18,CUST778,Female,47,Beauty,4,25,100\\r\\n779,2023-05-05,CUST779,Female,56,Electronics,2,500,1000\\r\\n780,2023-02-22,CUST780,Male,52,Electronics,2,25,50\\r\\n781,2023-12-23,CUST781,Male,35,Beauty,1,500,500\\r\\n782,2023-06-04,CUST782,Male,59,Clothing,3,300,900\\r\\n783,2023-12-17,CUST783,Female,56,Clothing,1,300,300\\r\\n784,2023-11-04,CUST784,Female,34,Electronics,1,500,500\\r\\n785,2023-03-03,CUST785,Female,31,Beauty,4,50,200\\r\\n786,2023-10-17,CUST786,Male,48,Clothing,4,25,100\\r\\n787,2023-01-22,CUST787,Male,41,Electronics,1,25,25\\r\\n788,2023-06-27,CUST788,Female,52,Beauty,3,300,900\\r\\n789,2023-09-30,CUST789,Female,61,Clothing,4,500,2000\\r\\n790,2023-08-08,CUST790,Male,62,Clothing,1,25,25\\r\\n791,2023-12-05,CUST791,Female,51,Beauty,1,25,25\\r\\n792,2023-07-09,CUST792,Female,20,Beauty,1,50,50\\r\\n793,2023-02-05,CUST793,Male,54,Beauty,1,30,30\\r\\n794,2023-09-17,CUST794,Female,60,Beauty,1,300,300\\r\\n795,2023-11-28,CUST795,Male,57,Electronics,1,300,300\\r\\n796,2023-06-24,CUST796,Male,43,Beauty,4,30,120\\r\\n797,2023-01-07,CUST797,Male,40,Clothing,3,25,75\\r\\n798,2023-08-04,CUST798,Male,61,Clothing,1,50,50\\r\\n799,2023-09-08,CUST799,Male,56,Electronics,2,50,100\\r\\n800,2023-02-24,CUST800,Male,32,Clothing,4,300,1200\\r\\n801,2023-08-10,CUST801,Male,21,Clothing,4,50,200\\r\\n802,2023-07-05,CUST802,Female,46,Beauty,1,30,30\\r\\n803,2023-11-22,CUST803,Male,39,Clothing,4,25,100\\r\\n804,2023-08-24,CUST804,Male,42,Electronics,1,30,30\\r\\n805,2023-12-29,CUST805,Female,30,Beauty,3,500,1500\\r\\n806,2023-03-20,CUST806,Female,35,Beauty,3,300,900\\r\\n807,2023-08-11,CUST807,Female,50,Electronics,4,50,200\\r\\n808,2023-04-01,CUST808,Male,33,Beauty,4,500,2000\\r\\n809,2023-09-25,CUST809,Female,62,Beauty,2,50,100\\r\\n810,2023-11-30,CUST810,Male,59,Electronics,4,25,100\\r\\n811,2023-05-19,CUST811,Male,61,Beauty,2,25,50\\r\\n812,2023-11-12,CUST812,Male,19,Electronics,3,25,75\\r\\n813,2023-10-03,CUST813,Male,52,Electronics,3,50,150\\r\\n814,2023-09-05,CUST814,Female,59,Clothing,1,500,500\\r\\n815,2023-08-27,CUST815,Female,51,Clothing,3,25,75\\r\\n816,2023-08-12,CUST816,Male,47,Beauty,2,500,1000\\r\\n817,2023-10-31,CUST817,Male,30,Beauty,4,50,200\\r\\n818,2023-05-18,CUST818,Male,30,Electronics,1,500,500\\r\\n819,2023-06-15,CUST819,Female,35,Beauty,2,50,100\\r\\n820,2023-05-06,CUST820,Male,49,Electronics,4,50,200\\r\\n821,2023-02-14,CUST821,Male,49,Electronics,1,300,300\\r\\n822,2023-05-23,CUST822,Female,52,Beauty,3,50,150\\r\\n823,2023-08-19,CUST823,Female,56,Electronics,2,50,100\\r\\n824,2023-05-05,CUST824,Male,63,Clothing,4,30,120\\r\\n825,2023-08-26,CUST825,Female,46,Beauty,1,25,25\\r\\n826,2023-10-19,CUST826,Female,46,Clothing,1,300,300\\r\\n827,2023-11-09,CUST827,Male,61,Beauty,3,300,900\\r\\n828,2023-12-09,CUST828,Female,33,Electronics,4,300,1200\\r\\n829,2023-07-14,CUST829,Male,61,Beauty,3,30,90\\r\\n830,2023-06-22,CUST830,Female,64,Clothing,3,50,150\\r\\n831,2023-01-15,CUST831,Male,27,Electronics,4,25,100\\r\\n832,2023-09-11,CUST832,Male,47,Beauty,4,500,2000\\r\\n833,2023-06-16,CUST833,Male,42,Beauty,4,50,200\\r\\n834,2023-04-04,CUST834,Female,56,Beauty,2,30,60\\r\\n835,2023-09-07,CUST835,Male,37,Clothing,4,50,200\\r\\n836,2023-04-19,CUST836,Female,22,Clothing,1,50,50\\r\\n837,2023-07-01,CUST837,Male,18,Beauty,3,30,90\\r\\n838,2023-05-13,CUST838,Male,47,Electronics,2,300,600\\r\\n839,2023-06-24,CUST839,Female,20,Electronics,4,300,1200\\r\\n840,2023-05-24,CUST840,Male,62,Clothing,2,25,50\\r\\n841,2023-11-02,CUST841,Male,31,Electronics,4,25,100\\r\\n842,2023-12-26,CUST842,Female,47,Clothing,2,300,600\\r\\n843,2023-05-22,CUST843,Male,21,Beauty,3,500,1500\\r\\n844,2023-10-12,CUST844,Male,35,Clothing,3,50,150\\r\\n845,2023-01-06,CUST845,Male,54,Clothing,1,500,500\\r\\n846,2023-09-22,CUST846,Male,42,Beauty,1,50,50\\r\\n847,2023-04-08,CUST847,Female,18,Electronics,4,300,1200\\r\\n848,2023-02-13,CUST848,Female,63,Clothing,3,25,75\\r\\n849,2023-05-04,CUST849,Male,32,Clothing,2,25,50\\r\\n850,2023-07-28,CUST850,Female,26,Beauty,2,500,1000\\r\\n851,2023-09-08,CUST851,Male,32,Electronics,2,25,50\\r\\n852,2023-10-12,CUST852,Female,41,Clothing,1,300,300\\r\\n853,2023-05-04,CUST853,Male,21,Beauty,2,500,1000\\r\\n854,2023-12-20,CUST854,Male,29,Clothing,1,50,50\\r\\n855,2023-09-01,CUST855,Male,54,Beauty,1,25,25\\r\\n856,2023-11-27,CUST856,Male,54,Electronics,4,30,120\\r\\n857,2023-12-31,CUST857,Male,60,Electronics,2,25,50\\r\\n858,2023-09-09,CUST858,Male,23,Electronics,2,50,100\\r\\n859,2023-08-18,CUST859,Female,56,Electronics,3,500,1500\\r\\n860,2023-01-09,CUST860,Male,63,Clothing,4,50,200\\r\\n861,2023-02-17,CUST861,Female,41,Clothing,3,30,90\\r\\n862,2023-05-31,CUST862,Male,28,Electronics,4,300,1200\\r\\n863,2023-04-24,CUST863,Female,30,Electronics,2,25,50\\r\\n864,2023-07-27,CUST864,Female,51,Electronics,1,500,500\\r\\n865,2023-12-21,CUST865,Female,42,Clothing,1,300,300\\r\\n866,2023-05-05,CUST866,Male,24,Electronics,1,50,50\\r\\n867,2023-06-06,CUST867,Male,21,Electronics,1,500,500\\r\\n868,2023-12-06,CUST868,Female,25,Electronics,1,300,300\\r\\n869,2023-10-25,CUST869,Male,37,Beauty,3,500,1500\\r\\n870,2023-07-08,CUST870,Female,46,Electronics,4,30,120\\r\\n871,2023-08-31,CUST871,Male,62,Beauty,2,30,60\\r\\n872,2023-10-11,CUST872,Female,63,Beauty,3,25,75\\r\\n873,2023-09-29,CUST873,Female,27,Electronics,4,25,100\\r\\n874,2023-06-26,CUST874,Male,60,Beauty,1,30,30\\r\\n875,2023-08-06,CUST875,Female,51,Electronics,4,500,2000\\r\\n876,2023-10-09,CUST876,Male,43,Clothing,4,30,120\\r\\n877,2023-06-19,CUST877,Female,58,Clothing,1,25,25\\r\\n878,2023-06-30,CUST878,Female,20,Clothing,1,30,30\\r\\n879,2023-12-26,CUST879,Male,23,Clothing,1,30,30\\r\\n880,2023-08-21,CUST880,Male,22,Beauty,2,500,1000\\r\\n881,2023-05-19,CUST881,Male,22,Electronics,1,300,300\\r\\n882,2023-06-06,CUST882,Female,64,Electronics,2,25,50\\r\\n883,2023-05-09,CUST883,Male,40,Electronics,1,500,500\\r\\n884,2023-04-29,CUST884,Female,26,Clothing,2,30,60\\r\\n885,2023-03-03,CUST885,Female,52,Clothing,4,30,120\\r\\n886,2023-04-09,CUST886,Male,37,Electronics,3,300,900\\r\\n887,2023-06-11,CUST887,Male,59,Clothing,4,25,100\\r\\n888,2023-03-03,CUST888,Female,52,Electronics,4,25,100\\r\\n889,2023-10-02,CUST889,Female,35,Electronics,1,50,50\\r\\n890,2023-12-20,CUST890,Male,34,Electronics,2,25,50\\r\\n891,2023-04-05,CUST891,Male,41,Electronics,3,300,900\\r\\n892,2023-04-09,CUST892,Male,20,Electronics,1,50,50\\r\\n893,2023-04-21,CUST893,Male,49,Electronics,1,50,50\\r\\n894,2023-09-05,CUST894,Male,52,Electronics,1,30,30\\r\\n895,2023-05-22,CUST895,Female,55,Clothing,4,30,120\\r\\n896,2023-10-29,CUST896,Female,30,Electronics,2,25,50\\r\\n897,2023-09-26,CUST897,Female,64,Electronics,2,50,100\\r\\n898,2023-11-02,CUST898,Female,42,Clothing,3,30,90\\r\\n899,2023-05-25,CUST899,Male,26,Clothing,2,300,600\\r\\n900,2023-02-21,CUST900,Male,21,Clothing,2,30,60\\r\\n901,2023-04-10,CUST901,Male,31,Electronics,1,30,30\\r\\n902,2023-06-01,CUST902,Female,54,Beauty,1,50,50\\r\\n903,2023-04-27,CUST903,Female,51,Beauty,4,50,200\\r\\n904,2023-07-04,CUST904,Male,28,Clothing,1,500,500\\r\\n905,2023-04-02,CUST905,Male,58,Beauty,1,300,300\\r\\n906,2023-06-04,CUST906,Female,20,Clothing,1,50,50\\r\\n907,2023-01-08,CUST907,Female,45,Electronics,1,25,25\\r\\n908,2023-12-29,CUST908,Male,46,Beauty,4,300,1200\\r\\n909,2023-10-01,CUST909,Male,26,Electronics,1,300,300\\r\\n910,2023-03-06,CUST910,Female,20,Beauty,3,50,150\\r\\n911,2023-05-21,CUST911,Male,42,Electronics,3,300,900\\r\\n912,2023-01-24,CUST912,Male,51,Beauty,3,50,150\\r\\n913,2023-01-28,CUST913,Male,29,Electronics,3,30,90\\r\\n914,2023-10-11,CUST914,Female,59,Electronics,1,500,500\\r\\n915,2023-05-30,CUST915,Female,26,Beauty,3,30,90\\r\\n916,2023-12-24,CUST916,Female,32,Electronics,1,50,50\\r\\n917,2023-03-06,CUST917,Female,57,Electronics,4,50,200\\r\\n918,2023-11-23,CUST918,Female,42,Electronics,3,30,90\\r\\n919,2023-09-09,CUST919,Female,22,Beauty,2,25,50\\r\\n920,2023-02-22,CUST920,Female,28,Beauty,3,25,75\\r\\n921,2023-01-07,CUST921,Male,51,Electronics,3,25,75\\r\\n922,2023-10-21,CUST922,Male,41,Electronics,1,50,50\\r\\n923,2023-05-26,CUST923,Male,32,Beauty,3,300,900\\r\\n924,2023-08-29,CUST924,Male,55,Beauty,2,50,100\\r\\n925,2023-09-03,CUST925,Male,25,Electronics,1,300,300\\r\\n926,2023-08-14,CUST926,Male,22,Electronics,1,30,30\\r\\n927,2023-06-24,CUST927,Male,43,Electronics,4,500,2000\\r\\n928,2023-04-05,CUST928,Female,35,Clothing,4,300,1200\\r\\n929,2023-01-27,CUST929,Female,23,Beauty,3,25,75\\r\\n930,2023-05-10,CUST930,Male,54,Clothing,4,50,200\\r\\n931,2023-09-02,CUST931,Male,30,Beauty,4,30,120\\r\\n932,2023-02-28,CUST932,Female,45,Beauty,4,25,100\\r\\n933,2023-02-03,CUST933,Male,22,Beauty,1,30,30\\r\\n934,2023-07-25,CUST934,Male,30,Beauty,1,500,500\\r\\n935,2023-09-09,CUST935,Female,34,Beauty,1,50,50\\r\\n936,2023-02-07,CUST936,Male,57,Beauty,4,50,200\\r\\n937,2023-10-23,CUST937,Female,62,Beauty,1,500,500\\r\\n938,2023-11-19,CUST938,Male,49,Clothing,4,50,200\\r\\n939,2023-12-18,CUST939,Female,46,Electronics,1,300,300\\r\\n940,2023-01-28,CUST940,Female,20,Electronics,1,30,30\\r\\n941,2023-03-19,CUST941,Female,57,Clothing,2,25,50\\r\\n942,2023-03-18,CUST942,Male,51,Clothing,3,500,1500\\r\\n943,2023-10-16,CUST943,Female,57,Clothing,4,300,1200\\r\\n944,2023-06-05,CUST944,Male,44,Clothing,2,25,50\\r\\n945,2023-02-13,CUST945,Male,30,Beauty,1,25,25\\r\\n946,2023-05-08,CUST946,Male,62,Electronics,4,500,2000\\r\\n947,2023-03-02,CUST947,Male,50,Beauty,1,300,300\\r\\n948,2023-10-13,CUST948,Female,23,Electronics,3,25,75\\r\\n949,2023-08-02,CUST949,Female,41,Electronics,2,25,50\\r\\n950,2023-11-07,CUST950,Male,36,Clothing,3,300,900\\r\\n951,2023-11-02,CUST951,Male,33,Beauty,2,50,100\\r\\n952,2023-11-13,CUST952,Female,57,Clothing,1,25,25\\r\\n953,2023-04-26,CUST953,Male,45,Beauty,3,30,90\\r\\n954,2023-09-25,CUST954,Female,50,Electronics,3,300,900\\r\\n955,2023-07-14,CUST955,Male,58,Clothing,1,25,25\\r\\n956,2023-08-19,CUST956,Male,30,Clothing,3,500,1500\\r\\n957,2023-08-15,CUST957,Female,60,Electronics,4,30,120\\r\\n958,2023-06-02,CUST958,Male,62,Electronics,2,25,50\\r\\n959,2023-10-29,CUST959,Female,42,Electronics,2,30,60\\r\\n960,2023-08-08,CUST960,Male,59,Clothing,2,30,60\\r\\n961,2023-06-06,CUST961,Male,53,Beauty,4,50,200\\r\\n962,2023-10-19,CUST962,Male,44,Clothing,2,30,60\\r\\n963,2023-11-14,CUST963,Female,55,Beauty,1,50,50\\r\\n964,2023-01-31,CUST964,Male,24,Clothing,3,300,900\\r\\n965,2023-11-09,CUST965,Male,22,Clothing,4,50,200\\r\\n966,2023-02-20,CUST966,Male,60,Electronics,2,500,1000\\r\\n967,2023-04-17,CUST967,Male,62,Beauty,1,25,25\\r\\n968,2023-11-17,CUST968,Female,48,Clothing,3,300,900\\r\\n969,2023-04-19,CUST969,Female,40,Clothing,3,300,900\\r\\n970,2023-05-16,CUST970,Male,59,Electronics,4,500,2000\\r\\n971,2023-12-05,CUST971,Female,27,Electronics,4,50,200\\r\\n972,2023-02-11,CUST972,Male,49,Beauty,4,25,100\\r\\n973,2023-03-22,CUST973,Male,60,Clothing,1,50,50\\r\\n974,2023-05-03,CUST974,Male,47,Beauty,1,30,30\\r\\n975,2023-03-30,CUST975,Female,56,Clothing,4,50,200\\r\\n976,2023-10-10,CUST976,Female,48,Beauty,2,300,600\\r\\n977,2023-02-08,CUST977,Female,35,Electronics,3,25,75\\r\\n978,2023-03-22,CUST978,Female,53,Clothing,3,50,150\\r\\n979,2023-01-02,CUST979,Female,19,Beauty,1,25,25\\r\\n980,2023-07-29,CUST980,Female,31,Electronics,3,25,75\\r\\n981,2023-08-19,CUST981,Female,30,Electronics,2,30,60\\r\\n982,2023-12-19,CUST982,Female,46,Beauty,3,30,90\\r\\n983,2023-11-01,CUST983,Female,29,Clothing,1,300,300\\r\\n984,2023-08-29,CUST984,Male,56,Clothing,1,500,500\\r\\n985,2023-05-30,CUST985,Female,19,Electronics,2,25,50\\r\\n986,2023-01-17,CUST986,Female,49,Clothing,2,500,1000\\r\\n987,2023-04-29,CUST987,Female,30,Clothing,3,300,900\\r\\n988,2023-05-28,CUST988,Female,63,Clothing,3,25,75\\r\\n989,2023-12-28,CUST989,Female,44,Electronics,1,25,25\\r\\n990,2023-05-25,CUST990,Female,58,Beauty,2,500,1000\\r\\n991,2023-12-26,CUST991,Female,34,Clothing,2,50,100\\r\\n992,2023-08-21,CUST992,Female,57,Electronics,2,30,60\\r\\n993,2023-02-06,CUST993,Female,48,Electronics,3,50,150\\r\\n994,2023-12-18,CUST994,Female,51,Beauty,2,500,1000\\r\\n995,2023-04-30,CUST995,Female,41,Clothing,1,30,30\\r\\n996,2023-05-16,CUST996,Male,62,Clothing,1,50,50\\r\\n997,2023-11-17,CUST997,Male,52,Beauty,3,30,90\\r\\n998,2023-10-29,CUST998,Female,23,Beauty,4,25,100\\r\\n999,2023-12-05,CUST999,Female,36,Electronics,3,50,150\\r\\n1000,2023-04-12,CUST1000,Male,47,Electronics,4,30,120\\r\\n'}"
            ]
          },
          "metadata": {},
          "execution_count": 102
        }
      ],
      "source": [
        "from google.colab import files\n",
        "files.upload()"
      ]
    },
    {
      "cell_type": "code",
      "source": [
        "df =  pd.read_csv('retail_sales_dataset.csv')\n",
        "df.head()"
      ],
      "metadata": {
        "colab": {
          "base_uri": "https://localhost:8080/",
          "height": 206
        },
        "id": "-71aMRX0pl4r",
        "outputId": "58d10261-e561-450d-f986-74855360930f"
      },
      "execution_count": 103,
      "outputs": [
        {
          "output_type": "execute_result",
          "data": {
            "text/plain": [
              "   Transaction ID        Date Customer ID  Gender  Age Product Category  \\\n",
              "0               1  2023-11-24     CUST001    Male   34           Beauty   \n",
              "1               2  2023-02-27     CUST002  Female   26         Clothing   \n",
              "2               3  2023-01-13     CUST003    Male   50      Electronics   \n",
              "3               4  2023-05-21     CUST004    Male   37         Clothing   \n",
              "4               5  2023-05-06     CUST005    Male   30           Beauty   \n",
              "\n",
              "   Quantity  Price per Unit  Total Amount  \n",
              "0         3              50           150  \n",
              "1         2             500          1000  \n",
              "2         1              30            30  \n",
              "3         1             500           500  \n",
              "4         2              50           100  "
            ],
            "text/html": [
              "\n",
              "  <div id=\"df-29c290f4-ff3b-4906-b61c-7a13b2ee8555\" class=\"colab-df-container\">\n",
              "    <div>\n",
              "<style scoped>\n",
              "    .dataframe tbody tr th:only-of-type {\n",
              "        vertical-align: middle;\n",
              "    }\n",
              "\n",
              "    .dataframe tbody tr th {\n",
              "        vertical-align: top;\n",
              "    }\n",
              "\n",
              "    .dataframe thead th {\n",
              "        text-align: right;\n",
              "    }\n",
              "</style>\n",
              "<table border=\"1\" class=\"dataframe\">\n",
              "  <thead>\n",
              "    <tr style=\"text-align: right;\">\n",
              "      <th></th>\n",
              "      <th>Transaction ID</th>\n",
              "      <th>Date</th>\n",
              "      <th>Customer ID</th>\n",
              "      <th>Gender</th>\n",
              "      <th>Age</th>\n",
              "      <th>Product Category</th>\n",
              "      <th>Quantity</th>\n",
              "      <th>Price per Unit</th>\n",
              "      <th>Total Amount</th>\n",
              "    </tr>\n",
              "  </thead>\n",
              "  <tbody>\n",
              "    <tr>\n",
              "      <th>0</th>\n",
              "      <td>1</td>\n",
              "      <td>2023-11-24</td>\n",
              "      <td>CUST001</td>\n",
              "      <td>Male</td>\n",
              "      <td>34</td>\n",
              "      <td>Beauty</td>\n",
              "      <td>3</td>\n",
              "      <td>50</td>\n",
              "      <td>150</td>\n",
              "    </tr>\n",
              "    <tr>\n",
              "      <th>1</th>\n",
              "      <td>2</td>\n",
              "      <td>2023-02-27</td>\n",
              "      <td>CUST002</td>\n",
              "      <td>Female</td>\n",
              "      <td>26</td>\n",
              "      <td>Clothing</td>\n",
              "      <td>2</td>\n",
              "      <td>500</td>\n",
              "      <td>1000</td>\n",
              "    </tr>\n",
              "    <tr>\n",
              "      <th>2</th>\n",
              "      <td>3</td>\n",
              "      <td>2023-01-13</td>\n",
              "      <td>CUST003</td>\n",
              "      <td>Male</td>\n",
              "      <td>50</td>\n",
              "      <td>Electronics</td>\n",
              "      <td>1</td>\n",
              "      <td>30</td>\n",
              "      <td>30</td>\n",
              "    </tr>\n",
              "    <tr>\n",
              "      <th>3</th>\n",
              "      <td>4</td>\n",
              "      <td>2023-05-21</td>\n",
              "      <td>CUST004</td>\n",
              "      <td>Male</td>\n",
              "      <td>37</td>\n",
              "      <td>Clothing</td>\n",
              "      <td>1</td>\n",
              "      <td>500</td>\n",
              "      <td>500</td>\n",
              "    </tr>\n",
              "    <tr>\n",
              "      <th>4</th>\n",
              "      <td>5</td>\n",
              "      <td>2023-05-06</td>\n",
              "      <td>CUST005</td>\n",
              "      <td>Male</td>\n",
              "      <td>30</td>\n",
              "      <td>Beauty</td>\n",
              "      <td>2</td>\n",
              "      <td>50</td>\n",
              "      <td>100</td>\n",
              "    </tr>\n",
              "  </tbody>\n",
              "</table>\n",
              "</div>\n",
              "    <div class=\"colab-df-buttons\">\n",
              "\n",
              "  <div class=\"colab-df-container\">\n",
              "    <button class=\"colab-df-convert\" onclick=\"convertToInteractive('df-29c290f4-ff3b-4906-b61c-7a13b2ee8555')\"\n",
              "            title=\"Convert this dataframe to an interactive table.\"\n",
              "            style=\"display:none;\">\n",
              "\n",
              "  <svg xmlns=\"http://www.w3.org/2000/svg\" height=\"24px\" viewBox=\"0 -960 960 960\">\n",
              "    <path d=\"M120-120v-720h720v720H120Zm60-500h600v-160H180v160Zm220 220h160v-160H400v160Zm0 220h160v-160H400v160ZM180-400h160v-160H180v160Zm440 0h160v-160H620v160ZM180-180h160v-160H180v160Zm440 0h160v-160H620v160Z\"/>\n",
              "  </svg>\n",
              "    </button>\n",
              "\n",
              "  <style>\n",
              "    .colab-df-container {\n",
              "      display:flex;\n",
              "      gap: 12px;\n",
              "    }\n",
              "\n",
              "    .colab-df-convert {\n",
              "      background-color: #E8F0FE;\n",
              "      border: none;\n",
              "      border-radius: 50%;\n",
              "      cursor: pointer;\n",
              "      display: none;\n",
              "      fill: #1967D2;\n",
              "      height: 32px;\n",
              "      padding: 0 0 0 0;\n",
              "      width: 32px;\n",
              "    }\n",
              "\n",
              "    .colab-df-convert:hover {\n",
              "      background-color: #E2EBFA;\n",
              "      box-shadow: 0px 1px 2px rgba(60, 64, 67, 0.3), 0px 1px 3px 1px rgba(60, 64, 67, 0.15);\n",
              "      fill: #174EA6;\n",
              "    }\n",
              "\n",
              "    .colab-df-buttons div {\n",
              "      margin-bottom: 4px;\n",
              "    }\n",
              "\n",
              "    [theme=dark] .colab-df-convert {\n",
              "      background-color: #3B4455;\n",
              "      fill: #D2E3FC;\n",
              "    }\n",
              "\n",
              "    [theme=dark] .colab-df-convert:hover {\n",
              "      background-color: #434B5C;\n",
              "      box-shadow: 0px 1px 3px 1px rgba(0, 0, 0, 0.15);\n",
              "      filter: drop-shadow(0px 1px 2px rgba(0, 0, 0, 0.3));\n",
              "      fill: #FFFFFF;\n",
              "    }\n",
              "  </style>\n",
              "\n",
              "    <script>\n",
              "      const buttonEl =\n",
              "        document.querySelector('#df-29c290f4-ff3b-4906-b61c-7a13b2ee8555 button.colab-df-convert');\n",
              "      buttonEl.style.display =\n",
              "        google.colab.kernel.accessAllowed ? 'block' : 'none';\n",
              "\n",
              "      async function convertToInteractive(key) {\n",
              "        const element = document.querySelector('#df-29c290f4-ff3b-4906-b61c-7a13b2ee8555');\n",
              "        const dataTable =\n",
              "          await google.colab.kernel.invokeFunction('convertToInteractive',\n",
              "                                                    [key], {});\n",
              "        if (!dataTable) return;\n",
              "\n",
              "        const docLinkHtml = 'Like what you see? Visit the ' +\n",
              "          '<a target=\"_blank\" href=https://colab.research.google.com/notebooks/data_table.ipynb>data table notebook</a>'\n",
              "          + ' to learn more about interactive tables.';\n",
              "        element.innerHTML = '';\n",
              "        dataTable['output_type'] = 'display_data';\n",
              "        await google.colab.output.renderOutput(dataTable, element);\n",
              "        const docLink = document.createElement('div');\n",
              "        docLink.innerHTML = docLinkHtml;\n",
              "        element.appendChild(docLink);\n",
              "      }\n",
              "    </script>\n",
              "  </div>\n",
              "\n",
              "\n",
              "<div id=\"df-710b29ff-4899-4f04-b541-1210bfe9cac9\">\n",
              "  <button class=\"colab-df-quickchart\" onclick=\"quickchart('df-710b29ff-4899-4f04-b541-1210bfe9cac9')\"\n",
              "            title=\"Suggest charts\"\n",
              "            style=\"display:none;\">\n",
              "\n",
              "<svg xmlns=\"http://www.w3.org/2000/svg\" height=\"24px\"viewBox=\"0 0 24 24\"\n",
              "     width=\"24px\">\n",
              "    <g>\n",
              "        <path d=\"M19 3H5c-1.1 0-2 .9-2 2v14c0 1.1.9 2 2 2h14c1.1 0 2-.9 2-2V5c0-1.1-.9-2-2-2zM9 17H7v-7h2v7zm4 0h-2V7h2v10zm4 0h-2v-4h2v4z\"/>\n",
              "    </g>\n",
              "</svg>\n",
              "  </button>\n",
              "\n",
              "<style>\n",
              "  .colab-df-quickchart {\n",
              "      --bg-color: #E8F0FE;\n",
              "      --fill-color: #1967D2;\n",
              "      --hover-bg-color: #E2EBFA;\n",
              "      --hover-fill-color: #174EA6;\n",
              "      --disabled-fill-color: #AAA;\n",
              "      --disabled-bg-color: #DDD;\n",
              "  }\n",
              "\n",
              "  [theme=dark] .colab-df-quickchart {\n",
              "      --bg-color: #3B4455;\n",
              "      --fill-color: #D2E3FC;\n",
              "      --hover-bg-color: #434B5C;\n",
              "      --hover-fill-color: #FFFFFF;\n",
              "      --disabled-bg-color: #3B4455;\n",
              "      --disabled-fill-color: #666;\n",
              "  }\n",
              "\n",
              "  .colab-df-quickchart {\n",
              "    background-color: var(--bg-color);\n",
              "    border: none;\n",
              "    border-radius: 50%;\n",
              "    cursor: pointer;\n",
              "    display: none;\n",
              "    fill: var(--fill-color);\n",
              "    height: 32px;\n",
              "    padding: 0;\n",
              "    width: 32px;\n",
              "  }\n",
              "\n",
              "  .colab-df-quickchart:hover {\n",
              "    background-color: var(--hover-bg-color);\n",
              "    box-shadow: 0 1px 2px rgba(60, 64, 67, 0.3), 0 1px 3px 1px rgba(60, 64, 67, 0.15);\n",
              "    fill: var(--button-hover-fill-color);\n",
              "  }\n",
              "\n",
              "  .colab-df-quickchart-complete:disabled,\n",
              "  .colab-df-quickchart-complete:disabled:hover {\n",
              "    background-color: var(--disabled-bg-color);\n",
              "    fill: var(--disabled-fill-color);\n",
              "    box-shadow: none;\n",
              "  }\n",
              "\n",
              "  .colab-df-spinner {\n",
              "    border: 2px solid var(--fill-color);\n",
              "    border-color: transparent;\n",
              "    border-bottom-color: var(--fill-color);\n",
              "    animation:\n",
              "      spin 1s steps(1) infinite;\n",
              "  }\n",
              "\n",
              "  @keyframes spin {\n",
              "    0% {\n",
              "      border-color: transparent;\n",
              "      border-bottom-color: var(--fill-color);\n",
              "      border-left-color: var(--fill-color);\n",
              "    }\n",
              "    20% {\n",
              "      border-color: transparent;\n",
              "      border-left-color: var(--fill-color);\n",
              "      border-top-color: var(--fill-color);\n",
              "    }\n",
              "    30% {\n",
              "      border-color: transparent;\n",
              "      border-left-color: var(--fill-color);\n",
              "      border-top-color: var(--fill-color);\n",
              "      border-right-color: var(--fill-color);\n",
              "    }\n",
              "    40% {\n",
              "      border-color: transparent;\n",
              "      border-right-color: var(--fill-color);\n",
              "      border-top-color: var(--fill-color);\n",
              "    }\n",
              "    60% {\n",
              "      border-color: transparent;\n",
              "      border-right-color: var(--fill-color);\n",
              "    }\n",
              "    80% {\n",
              "      border-color: transparent;\n",
              "      border-right-color: var(--fill-color);\n",
              "      border-bottom-color: var(--fill-color);\n",
              "    }\n",
              "    90% {\n",
              "      border-color: transparent;\n",
              "      border-bottom-color: var(--fill-color);\n",
              "    }\n",
              "  }\n",
              "</style>\n",
              "\n",
              "  <script>\n",
              "    async function quickchart(key) {\n",
              "      const quickchartButtonEl =\n",
              "        document.querySelector('#' + key + ' button');\n",
              "      quickchartButtonEl.disabled = true;  // To prevent multiple clicks.\n",
              "      quickchartButtonEl.classList.add('colab-df-spinner');\n",
              "      try {\n",
              "        const charts = await google.colab.kernel.invokeFunction(\n",
              "            'suggestCharts', [key], {});\n",
              "      } catch (error) {\n",
              "        console.error('Error during call to suggestCharts:', error);\n",
              "      }\n",
              "      quickchartButtonEl.classList.remove('colab-df-spinner');\n",
              "      quickchartButtonEl.classList.add('colab-df-quickchart-complete');\n",
              "    }\n",
              "    (() => {\n",
              "      let quickchartButtonEl =\n",
              "        document.querySelector('#df-710b29ff-4899-4f04-b541-1210bfe9cac9 button');\n",
              "      quickchartButtonEl.style.display =\n",
              "        google.colab.kernel.accessAllowed ? 'block' : 'none';\n",
              "    })();\n",
              "  </script>\n",
              "</div>\n",
              "\n",
              "    </div>\n",
              "  </div>\n"
            ],
            "application/vnd.google.colaboratory.intrinsic+json": {
              "type": "dataframe",
              "variable_name": "df",
              "summary": "{\n  \"name\": \"df\",\n  \"rows\": 1000,\n  \"fields\": [\n    {\n      \"column\": \"Transaction ID\",\n      \"properties\": {\n        \"dtype\": \"number\",\n        \"std\": 288,\n        \"min\": 1,\n        \"max\": 1000,\n        \"num_unique_values\": 1000,\n        \"samples\": [\n          522,\n          738,\n          741\n        ],\n        \"semantic_type\": \"\",\n        \"description\": \"\"\n      }\n    },\n    {\n      \"column\": \"Date\",\n      \"properties\": {\n        \"dtype\": \"object\",\n        \"num_unique_values\": 345,\n        \"samples\": [\n          \"2023-04-04\",\n          \"2023-04-13\",\n          \"2023-04-15\"\n        ],\n        \"semantic_type\": \"\",\n        \"description\": \"\"\n      }\n    },\n    {\n      \"column\": \"Customer ID\",\n      \"properties\": {\n        \"dtype\": \"string\",\n        \"num_unique_values\": 1000,\n        \"samples\": [\n          \"CUST522\",\n          \"CUST738\",\n          \"CUST741\"\n        ],\n        \"semantic_type\": \"\",\n        \"description\": \"\"\n      }\n    },\n    {\n      \"column\": \"Gender\",\n      \"properties\": {\n        \"dtype\": \"category\",\n        \"num_unique_values\": 2,\n        \"samples\": [\n          \"Female\",\n          \"Male\"\n        ],\n        \"semantic_type\": \"\",\n        \"description\": \"\"\n      }\n    },\n    {\n      \"column\": \"Age\",\n      \"properties\": {\n        \"dtype\": \"number\",\n        \"std\": 13,\n        \"min\": 18,\n        \"max\": 64,\n        \"num_unique_values\": 47,\n        \"samples\": [\n          48,\n          61\n        ],\n        \"semantic_type\": \"\",\n        \"description\": \"\"\n      }\n    },\n    {\n      \"column\": \"Product Category\",\n      \"properties\": {\n        \"dtype\": \"category\",\n        \"num_unique_values\": 3,\n        \"samples\": [\n          \"Beauty\",\n          \"Clothing\"\n        ],\n        \"semantic_type\": \"\",\n        \"description\": \"\"\n      }\n    },\n    {\n      \"column\": \"Quantity\",\n      \"properties\": {\n        \"dtype\": \"number\",\n        \"std\": 1,\n        \"min\": 1,\n        \"max\": 4,\n        \"num_unique_values\": 4,\n        \"samples\": [\n          2,\n          4\n        ],\n        \"semantic_type\": \"\",\n        \"description\": \"\"\n      }\n    },\n    {\n      \"column\": \"Price per Unit\",\n      \"properties\": {\n        \"dtype\": \"number\",\n        \"std\": 189,\n        \"min\": 25,\n        \"max\": 500,\n        \"num_unique_values\": 5,\n        \"samples\": [\n          500,\n          300\n        ],\n        \"semantic_type\": \"\",\n        \"description\": \"\"\n      }\n    },\n    {\n      \"column\": \"Total Amount\",\n      \"properties\": {\n        \"dtype\": \"number\",\n        \"std\": 559,\n        \"min\": 25,\n        \"max\": 2000,\n        \"num_unique_values\": 18,\n        \"samples\": [\n          150,\n          1000\n        ],\n        \"semantic_type\": \"\",\n        \"description\": \"\"\n      }\n    }\n  ]\n}"
            }
          },
          "metadata": {},
          "execution_count": 103
        }
      ]
    },
    {
      "cell_type": "markdown",
      "source": [
        "***DATA*** ***CLEANING***"
      ],
      "metadata": {
        "id": "3VEgTobg8iMB"
      }
    },
    {
      "cell_type": "code",
      "source": [
        "df.shape"
      ],
      "metadata": {
        "colab": {
          "base_uri": "https://localhost:8080/"
        },
        "id": "Ul3jgG9ysVr4",
        "outputId": "14beb2b6-dc9c-429e-a212-b23a2f63c112"
      },
      "execution_count": 104,
      "outputs": [
        {
          "output_type": "execute_result",
          "data": {
            "text/plain": [
              "(1000, 9)"
            ]
          },
          "metadata": {},
          "execution_count": 104
        }
      ]
    },
    {
      "cell_type": "code",
      "source": [
        "df.isnull().sum().sum()"
      ],
      "metadata": {
        "colab": {
          "base_uri": "https://localhost:8080/"
        },
        "id": "cnHMx3N6p33J",
        "outputId": "81edff2b-76b1-4c03-fab3-f36235d2b87f"
      },
      "execution_count": 105,
      "outputs": [
        {
          "output_type": "execute_result",
          "data": {
            "text/plain": [
              "0"
            ]
          },
          "metadata": {},
          "execution_count": 105
        }
      ]
    },
    {
      "cell_type": "code",
      "source": [
        "df.duplicated().sum()"
      ],
      "metadata": {
        "colab": {
          "base_uri": "https://localhost:8080/"
        },
        "id": "UxNnIA-mq-iV",
        "outputId": "b5ea20fb-5df9-4a7c-af5c-b6bb57906f87"
      },
      "execution_count": 106,
      "outputs": [
        {
          "output_type": "execute_result",
          "data": {
            "text/plain": [
              "0"
            ]
          },
          "metadata": {},
          "execution_count": 106
        }
      ]
    },
    {
      "cell_type": "markdown",
      "source": [
        "***DESCRIPTIVE*** ***STATISTICS***"
      ],
      "metadata": {
        "id": "Mb70lOWt81QL"
      }
    },
    {
      "cell_type": "code",
      "source": [
        "df.describe()"
      ],
      "metadata": {
        "colab": {
          "base_uri": "https://localhost:8080/",
          "height": 300
        },
        "id": "qPshOqdNsa1Z",
        "outputId": "5ec20b6b-63a2-43be-fde3-4e1eb784833b"
      },
      "execution_count": 107,
      "outputs": [
        {
          "output_type": "execute_result",
          "data": {
            "text/plain": [
              "       Transaction ID         Age     Quantity  Price per Unit  Total Amount\n",
              "count     1000.000000  1000.00000  1000.000000     1000.000000   1000.000000\n",
              "mean       500.500000    41.39200     2.514000      179.890000    456.000000\n",
              "std        288.819436    13.68143     1.132734      189.681356    559.997632\n",
              "min          1.000000    18.00000     1.000000       25.000000     25.000000\n",
              "25%        250.750000    29.00000     1.000000       30.000000     60.000000\n",
              "50%        500.500000    42.00000     3.000000       50.000000    135.000000\n",
              "75%        750.250000    53.00000     4.000000      300.000000    900.000000\n",
              "max       1000.000000    64.00000     4.000000      500.000000   2000.000000"
            ],
            "text/html": [
              "\n",
              "  <div id=\"df-f7fc640c-f42c-417d-ad1d-afe189320a8f\" class=\"colab-df-container\">\n",
              "    <div>\n",
              "<style scoped>\n",
              "    .dataframe tbody tr th:only-of-type {\n",
              "        vertical-align: middle;\n",
              "    }\n",
              "\n",
              "    .dataframe tbody tr th {\n",
              "        vertical-align: top;\n",
              "    }\n",
              "\n",
              "    .dataframe thead th {\n",
              "        text-align: right;\n",
              "    }\n",
              "</style>\n",
              "<table border=\"1\" class=\"dataframe\">\n",
              "  <thead>\n",
              "    <tr style=\"text-align: right;\">\n",
              "      <th></th>\n",
              "      <th>Transaction ID</th>\n",
              "      <th>Age</th>\n",
              "      <th>Quantity</th>\n",
              "      <th>Price per Unit</th>\n",
              "      <th>Total Amount</th>\n",
              "    </tr>\n",
              "  </thead>\n",
              "  <tbody>\n",
              "    <tr>\n",
              "      <th>count</th>\n",
              "      <td>1000.000000</td>\n",
              "      <td>1000.00000</td>\n",
              "      <td>1000.000000</td>\n",
              "      <td>1000.000000</td>\n",
              "      <td>1000.000000</td>\n",
              "    </tr>\n",
              "    <tr>\n",
              "      <th>mean</th>\n",
              "      <td>500.500000</td>\n",
              "      <td>41.39200</td>\n",
              "      <td>2.514000</td>\n",
              "      <td>179.890000</td>\n",
              "      <td>456.000000</td>\n",
              "    </tr>\n",
              "    <tr>\n",
              "      <th>std</th>\n",
              "      <td>288.819436</td>\n",
              "      <td>13.68143</td>\n",
              "      <td>1.132734</td>\n",
              "      <td>189.681356</td>\n",
              "      <td>559.997632</td>\n",
              "    </tr>\n",
              "    <tr>\n",
              "      <th>min</th>\n",
              "      <td>1.000000</td>\n",
              "      <td>18.00000</td>\n",
              "      <td>1.000000</td>\n",
              "      <td>25.000000</td>\n",
              "      <td>25.000000</td>\n",
              "    </tr>\n",
              "    <tr>\n",
              "      <th>25%</th>\n",
              "      <td>250.750000</td>\n",
              "      <td>29.00000</td>\n",
              "      <td>1.000000</td>\n",
              "      <td>30.000000</td>\n",
              "      <td>60.000000</td>\n",
              "    </tr>\n",
              "    <tr>\n",
              "      <th>50%</th>\n",
              "      <td>500.500000</td>\n",
              "      <td>42.00000</td>\n",
              "      <td>3.000000</td>\n",
              "      <td>50.000000</td>\n",
              "      <td>135.000000</td>\n",
              "    </tr>\n",
              "    <tr>\n",
              "      <th>75%</th>\n",
              "      <td>750.250000</td>\n",
              "      <td>53.00000</td>\n",
              "      <td>4.000000</td>\n",
              "      <td>300.000000</td>\n",
              "      <td>900.000000</td>\n",
              "    </tr>\n",
              "    <tr>\n",
              "      <th>max</th>\n",
              "      <td>1000.000000</td>\n",
              "      <td>64.00000</td>\n",
              "      <td>4.000000</td>\n",
              "      <td>500.000000</td>\n",
              "      <td>2000.000000</td>\n",
              "    </tr>\n",
              "  </tbody>\n",
              "</table>\n",
              "</div>\n",
              "    <div class=\"colab-df-buttons\">\n",
              "\n",
              "  <div class=\"colab-df-container\">\n",
              "    <button class=\"colab-df-convert\" onclick=\"convertToInteractive('df-f7fc640c-f42c-417d-ad1d-afe189320a8f')\"\n",
              "            title=\"Convert this dataframe to an interactive table.\"\n",
              "            style=\"display:none;\">\n",
              "\n",
              "  <svg xmlns=\"http://www.w3.org/2000/svg\" height=\"24px\" viewBox=\"0 -960 960 960\">\n",
              "    <path d=\"M120-120v-720h720v720H120Zm60-500h600v-160H180v160Zm220 220h160v-160H400v160Zm0 220h160v-160H400v160ZM180-400h160v-160H180v160Zm440 0h160v-160H620v160ZM180-180h160v-160H180v160Zm440 0h160v-160H620v160Z\"/>\n",
              "  </svg>\n",
              "    </button>\n",
              "\n",
              "  <style>\n",
              "    .colab-df-container {\n",
              "      display:flex;\n",
              "      gap: 12px;\n",
              "    }\n",
              "\n",
              "    .colab-df-convert {\n",
              "      background-color: #E8F0FE;\n",
              "      border: none;\n",
              "      border-radius: 50%;\n",
              "      cursor: pointer;\n",
              "      display: none;\n",
              "      fill: #1967D2;\n",
              "      height: 32px;\n",
              "      padding: 0 0 0 0;\n",
              "      width: 32px;\n",
              "    }\n",
              "\n",
              "    .colab-df-convert:hover {\n",
              "      background-color: #E2EBFA;\n",
              "      box-shadow: 0px 1px 2px rgba(60, 64, 67, 0.3), 0px 1px 3px 1px rgba(60, 64, 67, 0.15);\n",
              "      fill: #174EA6;\n",
              "    }\n",
              "\n",
              "    .colab-df-buttons div {\n",
              "      margin-bottom: 4px;\n",
              "    }\n",
              "\n",
              "    [theme=dark] .colab-df-convert {\n",
              "      background-color: #3B4455;\n",
              "      fill: #D2E3FC;\n",
              "    }\n",
              "\n",
              "    [theme=dark] .colab-df-convert:hover {\n",
              "      background-color: #434B5C;\n",
              "      box-shadow: 0px 1px 3px 1px rgba(0, 0, 0, 0.15);\n",
              "      filter: drop-shadow(0px 1px 2px rgba(0, 0, 0, 0.3));\n",
              "      fill: #FFFFFF;\n",
              "    }\n",
              "  </style>\n",
              "\n",
              "    <script>\n",
              "      const buttonEl =\n",
              "        document.querySelector('#df-f7fc640c-f42c-417d-ad1d-afe189320a8f button.colab-df-convert');\n",
              "      buttonEl.style.display =\n",
              "        google.colab.kernel.accessAllowed ? 'block' : 'none';\n",
              "\n",
              "      async function convertToInteractive(key) {\n",
              "        const element = document.querySelector('#df-f7fc640c-f42c-417d-ad1d-afe189320a8f');\n",
              "        const dataTable =\n",
              "          await google.colab.kernel.invokeFunction('convertToInteractive',\n",
              "                                                    [key], {});\n",
              "        if (!dataTable) return;\n",
              "\n",
              "        const docLinkHtml = 'Like what you see? Visit the ' +\n",
              "          '<a target=\"_blank\" href=https://colab.research.google.com/notebooks/data_table.ipynb>data table notebook</a>'\n",
              "          + ' to learn more about interactive tables.';\n",
              "        element.innerHTML = '';\n",
              "        dataTable['output_type'] = 'display_data';\n",
              "        await google.colab.output.renderOutput(dataTable, element);\n",
              "        const docLink = document.createElement('div');\n",
              "        docLink.innerHTML = docLinkHtml;\n",
              "        element.appendChild(docLink);\n",
              "      }\n",
              "    </script>\n",
              "  </div>\n",
              "\n",
              "\n",
              "<div id=\"df-08f8cca0-2cba-4878-8e73-f7d60661508d\">\n",
              "  <button class=\"colab-df-quickchart\" onclick=\"quickchart('df-08f8cca0-2cba-4878-8e73-f7d60661508d')\"\n",
              "            title=\"Suggest charts\"\n",
              "            style=\"display:none;\">\n",
              "\n",
              "<svg xmlns=\"http://www.w3.org/2000/svg\" height=\"24px\"viewBox=\"0 0 24 24\"\n",
              "     width=\"24px\">\n",
              "    <g>\n",
              "        <path d=\"M19 3H5c-1.1 0-2 .9-2 2v14c0 1.1.9 2 2 2h14c1.1 0 2-.9 2-2V5c0-1.1-.9-2-2-2zM9 17H7v-7h2v7zm4 0h-2V7h2v10zm4 0h-2v-4h2v4z\"/>\n",
              "    </g>\n",
              "</svg>\n",
              "  </button>\n",
              "\n",
              "<style>\n",
              "  .colab-df-quickchart {\n",
              "      --bg-color: #E8F0FE;\n",
              "      --fill-color: #1967D2;\n",
              "      --hover-bg-color: #E2EBFA;\n",
              "      --hover-fill-color: #174EA6;\n",
              "      --disabled-fill-color: #AAA;\n",
              "      --disabled-bg-color: #DDD;\n",
              "  }\n",
              "\n",
              "  [theme=dark] .colab-df-quickchart {\n",
              "      --bg-color: #3B4455;\n",
              "      --fill-color: #D2E3FC;\n",
              "      --hover-bg-color: #434B5C;\n",
              "      --hover-fill-color: #FFFFFF;\n",
              "      --disabled-bg-color: #3B4455;\n",
              "      --disabled-fill-color: #666;\n",
              "  }\n",
              "\n",
              "  .colab-df-quickchart {\n",
              "    background-color: var(--bg-color);\n",
              "    border: none;\n",
              "    border-radius: 50%;\n",
              "    cursor: pointer;\n",
              "    display: none;\n",
              "    fill: var(--fill-color);\n",
              "    height: 32px;\n",
              "    padding: 0;\n",
              "    width: 32px;\n",
              "  }\n",
              "\n",
              "  .colab-df-quickchart:hover {\n",
              "    background-color: var(--hover-bg-color);\n",
              "    box-shadow: 0 1px 2px rgba(60, 64, 67, 0.3), 0 1px 3px 1px rgba(60, 64, 67, 0.15);\n",
              "    fill: var(--button-hover-fill-color);\n",
              "  }\n",
              "\n",
              "  .colab-df-quickchart-complete:disabled,\n",
              "  .colab-df-quickchart-complete:disabled:hover {\n",
              "    background-color: var(--disabled-bg-color);\n",
              "    fill: var(--disabled-fill-color);\n",
              "    box-shadow: none;\n",
              "  }\n",
              "\n",
              "  .colab-df-spinner {\n",
              "    border: 2px solid var(--fill-color);\n",
              "    border-color: transparent;\n",
              "    border-bottom-color: var(--fill-color);\n",
              "    animation:\n",
              "      spin 1s steps(1) infinite;\n",
              "  }\n",
              "\n",
              "  @keyframes spin {\n",
              "    0% {\n",
              "      border-color: transparent;\n",
              "      border-bottom-color: var(--fill-color);\n",
              "      border-left-color: var(--fill-color);\n",
              "    }\n",
              "    20% {\n",
              "      border-color: transparent;\n",
              "      border-left-color: var(--fill-color);\n",
              "      border-top-color: var(--fill-color);\n",
              "    }\n",
              "    30% {\n",
              "      border-color: transparent;\n",
              "      border-left-color: var(--fill-color);\n",
              "      border-top-color: var(--fill-color);\n",
              "      border-right-color: var(--fill-color);\n",
              "    }\n",
              "    40% {\n",
              "      border-color: transparent;\n",
              "      border-right-color: var(--fill-color);\n",
              "      border-top-color: var(--fill-color);\n",
              "    }\n",
              "    60% {\n",
              "      border-color: transparent;\n",
              "      border-right-color: var(--fill-color);\n",
              "    }\n",
              "    80% {\n",
              "      border-color: transparent;\n",
              "      border-right-color: var(--fill-color);\n",
              "      border-bottom-color: var(--fill-color);\n",
              "    }\n",
              "    90% {\n",
              "      border-color: transparent;\n",
              "      border-bottom-color: var(--fill-color);\n",
              "    }\n",
              "  }\n",
              "</style>\n",
              "\n",
              "  <script>\n",
              "    async function quickchart(key) {\n",
              "      const quickchartButtonEl =\n",
              "        document.querySelector('#' + key + ' button');\n",
              "      quickchartButtonEl.disabled = true;  // To prevent multiple clicks.\n",
              "      quickchartButtonEl.classList.add('colab-df-spinner');\n",
              "      try {\n",
              "        const charts = await google.colab.kernel.invokeFunction(\n",
              "            'suggestCharts', [key], {});\n",
              "      } catch (error) {\n",
              "        console.error('Error during call to suggestCharts:', error);\n",
              "      }\n",
              "      quickchartButtonEl.classList.remove('colab-df-spinner');\n",
              "      quickchartButtonEl.classList.add('colab-df-quickchart-complete');\n",
              "    }\n",
              "    (() => {\n",
              "      let quickchartButtonEl =\n",
              "        document.querySelector('#df-08f8cca0-2cba-4878-8e73-f7d60661508d button');\n",
              "      quickchartButtonEl.style.display =\n",
              "        google.colab.kernel.accessAllowed ? 'block' : 'none';\n",
              "    })();\n",
              "  </script>\n",
              "</div>\n",
              "\n",
              "    </div>\n",
              "  </div>\n"
            ],
            "application/vnd.google.colaboratory.intrinsic+json": {
              "type": "dataframe",
              "summary": "{\n  \"name\": \"df\",\n  \"rows\": 8,\n  \"fields\": [\n    {\n      \"column\": \"Transaction ID\",\n      \"properties\": {\n        \"dtype\": \"number\",\n        \"std\": 360.1000917722167,\n        \"min\": 1.0,\n        \"max\": 1000.0,\n        \"num_unique_values\": 6,\n        \"samples\": [\n          1000.0,\n          500.5,\n          750.25\n        ],\n        \"semantic_type\": \"\",\n        \"description\": \"\"\n      }\n    },\n    {\n      \"column\": \"Age\",\n      \"properties\": {\n        \"dtype\": \"number\",\n        \"std\": 340.78610904107535,\n        \"min\": 13.681429659122527,\n        \"max\": 1000.0,\n        \"num_unique_values\": 8,\n        \"samples\": [\n          41.392,\n          42.0,\n          1000.0\n        ],\n        \"semantic_type\": \"\",\n        \"description\": \"\"\n      }\n    },\n    {\n      \"column\": \"Quantity\",\n      \"properties\": {\n        \"dtype\": \"number\",\n        \"std\": 352.71483432640656,\n        \"min\": 1.0,\n        \"max\": 1000.0,\n        \"num_unique_values\": 6,\n        \"samples\": [\n          1000.0,\n          2.514,\n          4.0\n        ],\n        \"semantic_type\": \"\",\n        \"description\": \"\"\n      }\n    },\n    {\n      \"column\": \"Price per Unit\",\n      \"properties\": {\n        \"dtype\": \"number\",\n        \"std\": 330.7254087976672,\n        \"min\": 25.0,\n        \"max\": 1000.0,\n        \"num_unique_values\": 8,\n        \"samples\": [\n          179.89,\n          50.0,\n          1000.0\n        ],\n        \"semantic_type\": \"\",\n        \"description\": \"\"\n      }\n    },\n    {\n      \"column\": \"Total Amount\",\n      \"properties\": {\n        \"dtype\": \"number\",\n        \"std\": 660.8084213867855,\n        \"min\": 25.0,\n        \"max\": 2000.0,\n        \"num_unique_values\": 8,\n        \"samples\": [\n          456.0,\n          135.0,\n          1000.0\n        ],\n        \"semantic_type\": \"\",\n        \"description\": \"\"\n      }\n    }\n  ]\n}"
            }
          },
          "metadata": {},
          "execution_count": 107
        }
      ]
    },
    {
      "cell_type": "markdown",
      "source": [
        "Time Series Analysis:"
      ],
      "metadata": {
        "id": "7VkfESI1-si-"
      }
    },
    {
      "cell_type": "code",
      "source": [
        "df['Date'] = pd.to_datetime(df['Date'])"
      ],
      "metadata": {
        "id": "4C4NaSRg5Ezl"
      },
      "execution_count": 108,
      "outputs": []
    },
    {
      "cell_type": "code",
      "source": [
        "df.set_index('Date', inplace=True)\n",
        "monthly_sales = df['Total Amount'].resample('M').sum()\n",
        "monthly_sales.head()"
      ],
      "metadata": {
        "colab": {
          "base_uri": "https://localhost:8080/",
          "height": 272
        },
        "id": "IxPR4cuj7b2P",
        "outputId": "6cf1d722-3f59-4c6a-a29e-7431362973af"
      },
      "execution_count": 109,
      "outputs": [
        {
          "output_type": "execute_result",
          "data": {
            "text/plain": [
              "Date\n",
              "2023-01-31    35450\n",
              "2023-02-28    44060\n",
              "2023-03-31    28990\n",
              "2023-04-30    33870\n",
              "2023-05-31    53150\n",
              "Freq: M, Name: Total Amount, dtype: int64"
            ],
            "text/html": [
              "<table border=\"1\" class=\"dataframe\">\n",
              "  <thead>\n",
              "    <tr style=\"text-align: right;\">\n",
              "      <th></th>\n",
              "      <th>Total Amount</th>\n",
              "    </tr>\n",
              "    <tr>\n",
              "      <th>Date</th>\n",
              "      <th></th>\n",
              "    </tr>\n",
              "  </thead>\n",
              "  <tbody>\n",
              "    <tr>\n",
              "      <th>2023-01-31</th>\n",
              "      <td>35450</td>\n",
              "    </tr>\n",
              "    <tr>\n",
              "      <th>2023-02-28</th>\n",
              "      <td>44060</td>\n",
              "    </tr>\n",
              "    <tr>\n",
              "      <th>2023-03-31</th>\n",
              "      <td>28990</td>\n",
              "    </tr>\n",
              "    <tr>\n",
              "      <th>2023-04-30</th>\n",
              "      <td>33870</td>\n",
              "    </tr>\n",
              "    <tr>\n",
              "      <th>2023-05-31</th>\n",
              "      <td>53150</td>\n",
              "    </tr>\n",
              "  </tbody>\n",
              "</table><br><label><b>dtype:</b> int64</label>"
            ]
          },
          "metadata": {},
          "execution_count": 109
        }
      ]
    },
    {
      "cell_type": "markdown",
      "source": [
        "Customer Demographics Analysis:\n",
        "\n"
      ],
      "metadata": {
        "id": "oM3tT-IH9JHm"
      }
    },
    {
      "cell_type": "code",
      "source": [
        "gender_dist = df['Gender'].value_counts()\n",
        "age_dist = df['Age'].describe()\n",
        "\n",
        "print('Gender distribution:', gender_dist)\n",
        "print('Age Distribution:', age_dist)"
      ],
      "metadata": {
        "colab": {
          "base_uri": "https://localhost:8080/"
        },
        "id": "CKC8NpQIDjdd",
        "outputId": "ae4f20d0-02bc-423b-9b20-8192b1b20fac"
      },
      "execution_count": 110,
      "outputs": [
        {
          "output_type": "stream",
          "name": "stdout",
          "text": [
            "Gender distribution: Gender\n",
            "Female    510\n",
            "Male      490\n",
            "Name: count, dtype: int64\n",
            "Age Distribution: count    1000.00000\n",
            "mean       41.39200\n",
            "std        13.68143\n",
            "min        18.00000\n",
            "25%        29.00000\n",
            "50%        42.00000\n",
            "75%        53.00000\n",
            "max        64.00000\n",
            "Name: Age, dtype: float64\n"
          ]
        }
      ]
    },
    {
      "cell_type": "markdown",
      "source": [
        "Product Analysis:\n",
        "\n"
      ],
      "metadata": {
        "id": "nFnQZurF9Rfj"
      }
    },
    {
      "cell_type": "code",
      "source": [
        "product_dist = df['Product Category'].value_counts()\n",
        "print('Product Category Distribution:', product_dist)"
      ],
      "metadata": {
        "colab": {
          "base_uri": "https://localhost:8080/"
        },
        "id": "zlopejMlGIk9",
        "outputId": "2ebdf1f6-9e4f-4566-8298-d1bd92f50be4"
      },
      "execution_count": 111,
      "outputs": [
        {
          "output_type": "stream",
          "name": "stdout",
          "text": [
            "Product Category Distribution: Product Category\n",
            "Clothing       351\n",
            "Electronics    342\n",
            "Beauty         307\n",
            "Name: count, dtype: int64\n"
          ]
        }
      ]
    },
    {
      "cell_type": "markdown",
      "source": [
        "Transaction Summary:\n",
        "\n",
        "\n"
      ],
      "metadata": {
        "id": "HI7qPi5J9Zpi"
      }
    },
    {
      "cell_type": "code",
      "source": [
        "total_transactions = df['Transaction ID'].nunique()\n",
        "total_revenue = df['Total Amount'].sum()\n",
        "\n",
        "print('Total Number of Transcation Is:', total_transactions)\n",
        "print('Total Revenue is:', total_revenue)"
      ],
      "metadata": {
        "colab": {
          "base_uri": "https://localhost:8080/"
        },
        "id": "AtHhDQ6qHPKl",
        "outputId": "e764d30e-5496-4eb3-9560-8df91fdb04a5"
      },
      "execution_count": 112,
      "outputs": [
        {
          "output_type": "stream",
          "name": "stdout",
          "text": [
            "Total Number of Transcation Is: 1000\n",
            "Total Revenue is: 456000\n"
          ]
        }
      ]
    },
    {
      "cell_type": "markdown",
      "source": [
        "Customer Purchasing Behavior:"
      ],
      "metadata": {
        "id": "PlKeiW-D9j4y"
      }
    },
    {
      "cell_type": "code",
      "source": [
        "customer_total_purchase = df.groupby('Customer ID')['Total Amount'].sum()\n",
        "avg_purchase_per_transaction = df['Transaction ID'].mean()\n",
        "top_products = df.groupby('Product Category')['Total Amount'].sum().sort_values(ascending = False)\n",
        "\n",
        "print('Total  Purchase By Customer is:', customer_total_purchase)\n",
        "print('Average Purchase Per Transaction Is:', avg_purchase_per_transaction)\n",
        "print('Top products By Revenue Are:', top_products )\n"
      ],
      "metadata": {
        "colab": {
          "base_uri": "https://localhost:8080/"
        },
        "id": "ifsLHwYWH5yT",
        "outputId": "43b75f34-a483-43ea-bee9-576271c11803"
      },
      "execution_count": 113,
      "outputs": [
        {
          "output_type": "stream",
          "name": "stdout",
          "text": [
            "Total  Purchase By Customer is: Customer ID\n",
            "CUST001     150\n",
            "CUST002    1000\n",
            "CUST003      30\n",
            "CUST004     500\n",
            "CUST005     100\n",
            "           ... \n",
            "CUST995      30\n",
            "CUST996      50\n",
            "CUST997      90\n",
            "CUST998     100\n",
            "CUST999     150\n",
            "Name: Total Amount, Length: 1000, dtype: int64\n",
            "Average Purchase Per Transaction Is: 500.5\n",
            "Top products By Revenue Are: Product Category\n",
            "Electronics    156905\n",
            "Clothing       155580\n",
            "Beauty         143515\n",
            "Name: Total Amount, dtype: int64\n"
          ]
        }
      ]
    },
    {
      "cell_type": "markdown",
      "source": [
        "***VISUALIZATION***"
      ],
      "metadata": {
        "id": "WHH78C6R9mLi"
      }
    },
    {
      "cell_type": "markdown",
      "source": [
        "Sales Trend Over Time Graph:"
      ],
      "metadata": {
        "id": "sya2FaI1-9Ib"
      }
    },
    {
      "cell_type": "code",
      "source": [
        "plt.figure(figsize=(10,6))\n",
        "plt.plot(monthly_sales,'o-', mec = 'r', mfc = 'r')\n",
        "plt.xlabel('Date')\n",
        "plt.ylabel('Total Sales')\n",
        "plt.title('Sales Trend Over Time')\n",
        "plt.grid()\n",
        "plt.show()"
      ],
      "metadata": {
        "colab": {
          "base_uri": "https://localhost:8080/",
          "height": 564
        },
        "id": "eErsfOJ37yqr",
        "outputId": "9d271eaf-4f2d-4c81-f16b-4ddd2f8ed5db"
      },
      "execution_count": 114,
      "outputs": [
        {
          "output_type": "display_data",
          "data": {
            "text/plain": [
              "<Figure size 1000x600 with 1 Axes>"
            ],
            "image/png": "[encoded data removed]"
          },
          "metadata": {}
        }
      ]
    },
    {
      "cell_type": "markdown",
      "source": [
        "Age Distribution Graph:"
      ],
      "metadata": {
        "id": "0-7e5XFO_C6s"
      }
    },
    {
      "cell_type": "code",
      "source": [
        "\n",
        "plt.figure(figsize=(10,6))\n",
        "df['Age'].hist(bins=15)\n",
        "plt.title('Age Distribution')\n",
        "plt.xlabel('Age')\n",
        "plt.ylabel('Frequency')\n",
        "plt.grid(False)\n",
        "plt.show()"
      ],
      "metadata": {
        "colab": {
          "base_uri": "https://localhost:8080/",
          "height": 564
        },
        "id": "dmy_nTvDA8NC",
        "outputId": "3dd9b728-b11e-4418-dc45-0d8252d67e14"
      },
      "execution_count": 115,
      "outputs": [
        {
          "output_type": "display_data",
          "data": {
            "text/plain": [
              "<Figure size 1000x600 with 1 Axes>"
            ],
            "image/png": "[encoded data removed]"
          },
          "metadata": {}
        }
      ]
    },
    {
      "cell_type": "markdown",
      "source": [
        "Gender Distribution Graph:"
      ],
      "metadata": {
        "id": "OTr5gPrU_JS1"
      }
    },
    {
      "cell_type": "code",
      "source": [
        "plt.figure(figsize=(8,5))\n",
        "gender_dist.plot(kind='bar', color=['lightcoral','skyblue'])\n",
        "plt.title('Gender Distribution')\n",
        "plt.xlabel('Gender')\n",
        "plt.ylabel('Frequency')\n",
        "plt.show()"
      ],
      "metadata": {
        "colab": {
          "base_uri": "https://localhost:8080/",
          "height": 523
        },
        "id": "fjU8jqrjBRk7",
        "outputId": "06905141-7630-44ac-ccf0-b0f7ed2f24d7"
      },
      "execution_count": 116,
      "outputs": [
        {
          "output_type": "display_data",
          "data": {
            "text/plain": [
              "<Figure size 800x500 with 1 Axes>"
            ],
            "image/png": "[encoded data removed]"
          },
          "metadata": {}
        }
      ]
    },
    {
      "cell_type": "code",
      "source": [
        "gender_proportion = df['Gender'].value_counts(normalize=True) * 100\n",
        "print(gender_proportion)\n"
      ],
      "metadata": {
        "colab": {
          "base_uri": "https://localhost:8080/"
        },
        "id": "edTtd_Pq38b4",
        "outputId": "c014c33a-a0de-4d5d-fbfb-714efd258490"
      },
      "execution_count": 117,
      "outputs": [
        {
          "output_type": "stream",
          "name": "stdout",
          "text": [
            "Gender\n",
            "Female    51.0\n",
            "Male      49.0\n",
            "Name: proportion, dtype: float64\n"
          ]
        }
      ]
    },
    {
      "cell_type": "markdown",
      "source": [
        "Products Revenue Graph"
      ],
      "metadata": {
        "id": "j7dCiUet_PAb"
      }
    },
    {
      "cell_type": "code",
      "source": [
        "plt.figure(figsize=(8,5))\n",
        "top_products.plot(kind = 'barh', color = 'lightgreen')\n",
        "plt.xlabel('Total Revenue')\n",
        "plt.ylabel('Products')\n",
        "plt.title('Revenue Products By Category')\n",
        "plt.show()"
      ],
      "metadata": {
        "id": "IWOXt9FeRGL_",
        "colab": {
          "base_uri": "https://localhost:8080/",
          "height": 487
        },
        "outputId": "c175cb00-f130-471a-f718-c5aecfa6dc44"
      },
      "execution_count": 118,
      "outputs": [
        {
          "output_type": "display_data",
          "data": {
            "text/plain": [
              "<Figure size 800x500 with 1 Axes>"
            ],
            "image/png": "[encoded data removed]"
          },
          "metadata": {}
        }
      ]
    },
    {
      "cell_type": "markdown",
      "source": [
        "Customer Purchase Amount Distribution Graph:"
      ],
      "metadata": {
        "id": "_Y6CxC18_Vzd"
      }
    },
    {
      "cell_type": "code",
      "source": [
        "plt.figure(figsize=(8,5))\n",
        "customer_total_purchase.plot(kind='hist', color = ['orange'])\n",
        "plt.title('Customer Purchase Amount Distribution')\n",
        "plt.xlabel('Total Purchase Amount')\n",
        "plt.ylabel('Frequency')\n",
        "plt.show()"
      ],
      "metadata": {
        "colab": {
          "base_uri": "https://localhost:8080/",
          "height": 487
        },
        "id": "oYIaFwvJzm0C",
        "outputId": "ae60b263-4351-4b4c-dbe6-10ec154e301b"
      },
      "execution_count": 119,
      "outputs": [
        {
          "output_type": "display_data",
          "data": {
            "text/plain": [
              "<Figure size 800x500 with 1 Axes>"
            ],
            "image/png": "[encoded data removed]"
          },
          "metadata": {}
        }
      ]
    },
    {
      "cell_type": "markdown",
      "source": [
        "***RECOMMENDATIONS***"
      ],
      "metadata": {
        "id": "uSDRXVOw_lOR"
      }
    },
    {
      "cell_type": "markdown",
      "source": [
        "**SALES** **TREND** **INSIGHTS**\n",
        "\n",
        "*   Findings from the Sales Trend Analysis:\n",
        "\n",
        "Peak Sales Months: March, June, and November are the months with the highest sales, suggesting seasonality or successful marketing campaigns during these periods.\n",
        "\n",
        "Low Sales Months: Significant drops in sales are observed in April, September, and January, indicating periods where demand is lower.\n",
        "\n",
        "Sales don't appear to maintain a steady growth trajectory, indicating possible issues with consistent customer retention or the impact of external factors.\n",
        "\n",
        "\n",
        "*   Recommendations for Improving Sales:\n",
        "\n",
        "Customer Engagement: Increase customer engagement through newsletters, targeted offers, and new year promotions to maintain interest and spending.\n",
        "\n",
        "Loyalty Programs: Introduce loyalty programs to encourage repeat purchases and build a loyal customer base, particularly targeting months with lower sales.\n",
        "\n",
        "Seasonal Products: Offer seasonal products or limited-time offers that resonate with the specific periods of high demand.\n",
        "\n",
        "Customer Feedback: Collect feedback from customers to understand the reasons for fluctuations, especially during low sales periods, and adjust offerings accordingly.\n",
        "\n",
        "\n"
      ],
      "metadata": {
        "id": "4nRM35DP__Sf"
      }
    },
    {
      "cell_type": "markdown",
      "source": [
        "**DEMOGRAPHIC** **INSIGHTS**\n",
        "\n",
        "*   Findings from Age Distribution Analysis:\n",
        "\n",
        "Young Adults (18-29): Represents customers in the lower quartile.\n",
        "Middle-Aged Adults (30-53): Largest age group, indicating that most customers are in this range.\n",
        "Older Adults (54-64): In the upper quartile, indicating a smaller but significant segment of older customers.\n",
        "\n",
        "\n",
        "*  Recommendations from Age Distribution Analysis:\n",
        "\n",
        "Middle-Aged Focus: Since the majority of customers are middle-aged (30-53 years), tailor marketing campaigns and product offerings to appeal to their preferences and lifestyle needs. For instance, focus on products that cater to family needs, home improvement, or career advancement.\n",
        "Youth Engagement: Create campaigns targeting younger customers (18-29 years) to capture long-term loyalty. Utilize social media platforms like Instagram, Snapchat, and TikTok, which are popular among this demographic.\n",
        "Older Demographic: Implement campaigns that resonate with the older demographic (54-64 years), potentially focusing on health and wellness, travel, and leisure products.\n",
        "\n",
        "Promotional Offers: Design special promotions and discounts for key age segments to boost engagement and sales during off-peak times.\n",
        "\n",
        "User-Friendly Interfaces: Ensure that your website and app interfaces are user-friendly and accessible to all age groups, particularly the older demographic, who might face usability challenges.\n",
        "\n",
        "\n",
        "\n",
        "*   Findings from Gender Distribution Analysis:\n",
        "\n",
        "Equal Representation:\n",
        "\n",
        "The gender distribution is fairly balanced, with 51% female and 49% male customers.\n",
        "\n",
        "Gender Parity:\n",
        "\n",
        "The small difference in percentage indicates gender parity, meaning both male and female customers are almost equally engaged with your brand.\n",
        "\n",
        "*   Recommendations From Gender Distribution Analysis:\n",
        "\n",
        "Since the gender distribution is nearly equal, create marketing campaigns that are gender-neutral and inclusive, ensuring that your messaging resonates with both male and female audiences.\n",
        "\n",
        "Consider implementing gender-specific promotions where applicable, but ensure these are balanced and respectful, avoiding stereotypes. For example, if certain products appeal more to one gender, tailor specific offers around those items while maintaining inclusivity.\n",
        "\n",
        "Use gender analytics to inform sales strategies, identifying which products perform well among different genders and adjusting sales approaches accordingly.\n",
        "\n",
        "\n"
      ],
      "metadata": {
        "id": "tTXlzdIrFY9F"
      }
    },
    {
      "cell_type": "markdown",
      "source": [
        "**PURCHASING BEHAVIOUR INSIGHTS**\n",
        "\n",
        "*   Findings from Product Category Distribution Analysis:\n",
        "\n",
        "Revenue Breakdown:\n",
        "\n",
        "Clothing is the highest revenue-generating category, closely followed by Electronics and Beauty.\n",
        "Each category contributes significantly to the overall revenue, with a relatively balanced revenue distribution across categories.\n",
        "\n",
        "Transaction Volume:\n",
        "\n",
        "Clothing: 351 transactions\n",
        "Electronics: 342 transactions\n",
        "Beauty: 307 transactions.\n",
        "The total number of transactions is 1,000, indicating active customer engagement across all product categories.\n",
        "\n",
        "The total revenue generated is $456,000, indicating healthy sales performance across the business.\n",
        "\n",
        "*   Recommendations From Product Category Distribution Analysis:\n",
        "\n",
        "Given that clothing is the top-performing category, ensure that inventory for popular clothing items is well-stocked to meet demand.\n",
        "\n",
        "Develop targeted marketing campaigns for each category. For clothing, emphasize seasonal collections, while for electronics, focus on new product releases and technology advancements.\n",
        "\n",
        "Use limited-time sales promotions to boost transactions, particularly for beauty products, which may benefit from impulse purchases\n",
        "\n",
        "Continuously analyze sales data to adapt strategies, ensuring alignment with customer demand and market conditions.\n",
        "\n"
      ],
      "metadata": {
        "id": "Pqp2nm2nIWz7"
      }
    },
    {
      "cell_type": "code",
      "source": [],
      "metadata": {
        "id": "RO4OAm2A220a"
      },
      "execution_count": null,
      "outputs": []
    }
  ]
}